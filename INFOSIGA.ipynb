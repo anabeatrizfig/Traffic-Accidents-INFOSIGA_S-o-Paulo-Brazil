{
 "cells": [
  {
   "cell_type": "code",
   "execution_count": 234,
   "metadata": {},
   "outputs": [],
   "source": [
    "import pandas as pd\n",
    "import matplotlib as mpl\n",
    "import matplotlib.pyplot as plt\n",
    "import seaborn as sns\n",
    "import numpy as np\n",
    "\n",
    "%matplotlib inline"
   ]
  },
  {
   "cell_type": "code",
   "execution_count": 235,
   "metadata": {},
   "outputs": [],
   "source": [
    "import warnings\n",
    "warnings.filterwarnings('ignore')"
   ]
  },
  {
   "cell_type": "code",
   "execution_count": 236,
   "metadata": {},
   "outputs": [],
   "source": [
    "sns.set(style=\"ticks\", color_codes=True)"
   ]
  },
  {
   "cell_type": "markdown",
   "metadata": {},
   "source": [
    "### Lendo os arquivos"
   ]
  },
  {
   "cell_type": "code",
   "execution_count": 237,
   "metadata": {},
   "outputs": [],
   "source": [
    "base_2015 = pd.read_csv('Base_INFOSIGA_2015.csv', encoding='latin-1', sep=';', header=0)\n",
    "base_2016 = pd.read_csv('Base_INFOSIGA_2016.csv', encoding='latin-1', sep=';', header=0)\n",
    "base_2017 = pd.read_csv('Base_INFOSIGA_2017.csv', encoding='latin-1', sep=';', header=0)\n",
    "base_2018 = pd.read_csv('Base_INFOSIGA_2018.csv', encoding='latin-1', sep=';', header=0)\n",
    "base_2019 = pd.read_csv('Base_INFOSIGA_2019.csv', encoding='latin-1', sep=';', header=0)\n"
   ]
  },
  {
   "cell_type": "markdown",
   "metadata": {},
   "source": [
    "### Explorando os arquivos"
   ]
  },
  {
   "cell_type": "code",
   "execution_count": 238,
   "metadata": {},
   "outputs": [
    {
     "name": "stdout",
     "output_type": "stream",
     "text": [
      "<class 'pandas.core.frame.DataFrame'>\n",
      "RangeIndex: 6468 entries, 0 to 6467\n",
      "Data columns (total 23 columns):\n",
      "Id Infosiga                       6468 non-null int64\n",
      "Cidade Considerada                6468 non-null object\n",
      "Região Administrativa             6468 non-null object\n",
      "Ano Óbito                         6468 non-null int64\n",
      "Mês Óbito                         6468 non-null int64\n",
      "Mês Descrição                     6468 non-null object\n",
      "Sexo                              6121 non-null object\n",
      "Turno                             6468 non-null object\n",
      "Tipo Acidente                     6468 non-null object\n",
      "SubTipo do Acidente               529 non-null object\n",
      "Tipo Veiculo                      6468 non-null object\n",
      "Faixa Etária                      6468 non-null object\n",
      "Idade                             6468 non-null object\n",
      "Tipo Vítima                       6468 non-null object\n",
      "Tipo Local do Acidente            5969 non-null object\n",
      "Dia Semana                        6145 non-null object\n",
      "Tipo de Via                       6468 non-null object\n",
      "LAT_(geo)                         6468 non-null object\n",
      "LONG_(geo)                        6468 non-null object\n",
      "Rua / Rodovia                     6468 non-null object\n",
      "KM Arredondado                    6468 non-null object\n",
      "Outro Veículo Envolvido           534 non-null object\n",
      "Tempo entre Acidente e o Óbito    6117 non-null object\n",
      "dtypes: int64(3), object(20)\n",
      "memory usage: 1.1+ MB\n",
      "None\n",
      "Id Infosiga                          0\n",
      "Cidade Considerada                   0\n",
      "Região Administrativa                0\n",
      "Ano Óbito                            0\n",
      "Mês Óbito                            0\n",
      "Mês Descrição                        0\n",
      "Sexo                               347\n",
      "Turno                                0\n",
      "Tipo Acidente                        0\n",
      "SubTipo do Acidente               5939\n",
      "Tipo Veiculo                         0\n",
      "Faixa Etária                         0\n",
      "Idade                                0\n",
      "Tipo Vítima                          0\n",
      "Tipo Local do Acidente             499\n",
      "Dia Semana                         323\n",
      "Tipo de Via                          0\n",
      "LAT_(geo)                            0\n",
      "LONG_(geo)                           0\n",
      "Rua / Rodovia                        0\n",
      "KM Arredondado                       0\n",
      "Outro Veículo Envolvido           5934\n",
      "Tempo entre Acidente e o Óbito     351\n",
      "dtype: int64\n"
     ]
    },
    {
     "data": {
      "text/html": [
       "<div>\n",
       "<style scoped>\n",
       "    .dataframe tbody tr th:only-of-type {\n",
       "        vertical-align: middle;\n",
       "    }\n",
       "\n",
       "    .dataframe tbody tr th {\n",
       "        vertical-align: top;\n",
       "    }\n",
       "\n",
       "    .dataframe thead th {\n",
       "        text-align: right;\n",
       "    }\n",
       "</style>\n",
       "<table border=\"1\" class=\"dataframe\">\n",
       "  <thead>\n",
       "    <tr style=\"text-align: right;\">\n",
       "      <th></th>\n",
       "      <th>Id Infosiga</th>\n",
       "      <th>Cidade Considerada</th>\n",
       "      <th>Região Administrativa</th>\n",
       "      <th>Ano Óbito</th>\n",
       "      <th>Mês Óbito</th>\n",
       "      <th>Mês Descrição</th>\n",
       "      <th>Sexo</th>\n",
       "      <th>Turno</th>\n",
       "      <th>Tipo Acidente</th>\n",
       "      <th>SubTipo do Acidente</th>\n",
       "      <th>...</th>\n",
       "      <th>Tipo Vítima</th>\n",
       "      <th>Tipo Local do Acidente</th>\n",
       "      <th>Dia Semana</th>\n",
       "      <th>Tipo de Via</th>\n",
       "      <th>LAT_(geo)</th>\n",
       "      <th>LONG_(geo)</th>\n",
       "      <th>Rua / Rodovia</th>\n",
       "      <th>KM Arredondado</th>\n",
       "      <th>Outro Veículo Envolvido</th>\n",
       "      <th>Tempo entre Acidente e o Óbito</th>\n",
       "    </tr>\n",
       "  </thead>\n",
       "  <tbody>\n",
       "    <tr>\n",
       "      <th>0</th>\n",
       "      <td>9577</td>\n",
       "      <td>ALUMINIO</td>\n",
       "      <td>Sorocaba</td>\n",
       "      <td>2015</td>\n",
       "      <td>9</td>\n",
       "      <td>SETEMBRO</td>\n",
       "      <td>NaN</td>\n",
       "      <td>MANHA</td>\n",
       "      <td>OUTROS</td>\n",
       "      <td>NaN</td>\n",
       "      <td>...</td>\n",
       "      <td>CONDUTOR</td>\n",
       "      <td>PUBLICO</td>\n",
       "      <td>TERÇA</td>\n",
       "      <td>Vias Municipais</td>\n",
       "      <td>-2.350.899.846</td>\n",
       "      <td>-4.745.910.385</td>\n",
       "      <td>RUA CLAUDIO MANOEL DA COSTA</td>\n",
       "      <td>564</td>\n",
       "      <td>NaN</td>\n",
       "      <td>Mesmo dia</td>\n",
       "    </tr>\n",
       "    <tr>\n",
       "      <th>1</th>\n",
       "      <td>7767</td>\n",
       "      <td>AMERICANA</td>\n",
       "      <td>Campinas</td>\n",
       "      <td>2015</td>\n",
       "      <td>9</td>\n",
       "      <td>SETEMBRO</td>\n",
       "      <td>MASCULINO</td>\n",
       "      <td>MADRUGADA</td>\n",
       "      <td>COLISAO</td>\n",
       "      <td>NaN</td>\n",
       "      <td>...</td>\n",
       "      <td>CONDUTOR</td>\n",
       "      <td>PUBLICO</td>\n",
       "      <td>DOMINGO</td>\n",
       "      <td>Rodovias</td>\n",
       "      <td>-22.756.649</td>\n",
       "      <td>-47.254.609</td>\n",
       "      <td>SP 330</td>\n",
       "      <td>120</td>\n",
       "      <td>NaN</td>\n",
       "      <td>Mesmo dia</td>\n",
       "    </tr>\n",
       "    <tr>\n",
       "      <th>2</th>\n",
       "      <td>7766</td>\n",
       "      <td>AMERICANA</td>\n",
       "      <td>Campinas</td>\n",
       "      <td>2015</td>\n",
       "      <td>9</td>\n",
       "      <td>SETEMBRO</td>\n",
       "      <td>MASCULINO</td>\n",
       "      <td>NOITE</td>\n",
       "      <td>COLISAO</td>\n",
       "      <td>NaN</td>\n",
       "      <td>...</td>\n",
       "      <td>CONDUTOR</td>\n",
       "      <td>PUBLICO</td>\n",
       "      <td>SÁBADO</td>\n",
       "      <td>Vias Municipais</td>\n",
       "      <td>-2.271.530.988</td>\n",
       "      <td>-4.732.492.552</td>\n",
       "      <td>AVENIDA NICOLAU JOAO ABDALA</td>\n",
       "      <td>ND</td>\n",
       "      <td>NaN</td>\n",
       "      <td>Mesmo dia</td>\n",
       "    </tr>\n",
       "    <tr>\n",
       "      <th>3</th>\n",
       "      <td>9255</td>\n",
       "      <td>AMERICO DE CAMPOS</td>\n",
       "      <td>São José do Rio Preto</td>\n",
       "      <td>2015</td>\n",
       "      <td>9</td>\n",
       "      <td>SETEMBRO</td>\n",
       "      <td>MASCULINO</td>\n",
       "      <td>NOITE</td>\n",
       "      <td>COLISAO</td>\n",
       "      <td>NaN</td>\n",
       "      <td>...</td>\n",
       "      <td>CONDUTOR</td>\n",
       "      <td>PUBLICO</td>\n",
       "      <td>DOMINGO</td>\n",
       "      <td>Rodovias</td>\n",
       "      <td>-20.306.831</td>\n",
       "      <td>-49.730.104</td>\n",
       "      <td>SP 479</td>\n",
       "      <td>24</td>\n",
       "      <td>NaN</td>\n",
       "      <td>Mesmo dia</td>\n",
       "    </tr>\n",
       "    <tr>\n",
       "      <th>4</th>\n",
       "      <td>7532</td>\n",
       "      <td>AMPARO</td>\n",
       "      <td>Campinas</td>\n",
       "      <td>2015</td>\n",
       "      <td>9</td>\n",
       "      <td>SETEMBRO</td>\n",
       "      <td>MASCULINO</td>\n",
       "      <td>MANHA</td>\n",
       "      <td>ATROPELAMENTO</td>\n",
       "      <td>NaN</td>\n",
       "      <td>...</td>\n",
       "      <td>PEDESTRE</td>\n",
       "      <td>PUBLICO</td>\n",
       "      <td>SÁBADO</td>\n",
       "      <td>Vias Municipais</td>\n",
       "      <td>-2.269.467</td>\n",
       "      <td>-4.672.208</td>\n",
       "      <td>AVENIDA ANESIO GUIDE</td>\n",
       "      <td>300</td>\n",
       "      <td>NaN</td>\n",
       "      <td>Mesmo dia</td>\n",
       "    </tr>\n",
       "  </tbody>\n",
       "</table>\n",
       "<p>5 rows × 23 columns</p>\n",
       "</div>"
      ],
      "text/plain": [
       "   Id Infosiga Cidade Considerada  Região Administrativa  Ano Óbito  \\\n",
       "0         9577           ALUMINIO               Sorocaba       2015   \n",
       "1         7767          AMERICANA               Campinas       2015   \n",
       "2         7766          AMERICANA               Campinas       2015   \n",
       "3         9255  AMERICO DE CAMPOS  São José do Rio Preto       2015   \n",
       "4         7532             AMPARO               Campinas       2015   \n",
       "\n",
       "   Mês Óbito Mês Descrição       Sexo      Turno  Tipo Acidente  \\\n",
       "0          9      SETEMBRO        NaN      MANHA         OUTROS   \n",
       "1          9      SETEMBRO  MASCULINO  MADRUGADA        COLISAO   \n",
       "2          9      SETEMBRO  MASCULINO      NOITE        COLISAO   \n",
       "3          9      SETEMBRO  MASCULINO      NOITE        COLISAO   \n",
       "4          9      SETEMBRO  MASCULINO      MANHA  ATROPELAMENTO   \n",
       "\n",
       "  SubTipo do Acidente              ...               Tipo Vítima  \\\n",
       "0                 NaN              ...                  CONDUTOR   \n",
       "1                 NaN              ...                  CONDUTOR   \n",
       "2                 NaN              ...                  CONDUTOR   \n",
       "3                 NaN              ...                  CONDUTOR   \n",
       "4                 NaN              ...                  PEDESTRE   \n",
       "\n",
       "  Tipo Local do Acidente Dia Semana      Tipo de Via       LAT_(geo)  \\\n",
       "0                PUBLICO      TERÇA  Vias Municipais  -2.350.899.846   \n",
       "1                PUBLICO    DOMINGO         Rodovias     -22.756.649   \n",
       "2                PUBLICO     SÁBADO  Vias Municipais  -2.271.530.988   \n",
       "3                PUBLICO    DOMINGO         Rodovias     -20.306.831   \n",
       "4                PUBLICO     SÁBADO  Vias Municipais      -2.269.467   \n",
       "\n",
       "       LONG_(geo)                Rua / Rodovia KM Arredondado  \\\n",
       "0  -4.745.910.385  RUA CLAUDIO MANOEL DA COSTA            564   \n",
       "1     -47.254.609                       SP 330            120   \n",
       "2  -4.732.492.552  AVENIDA NICOLAU JOAO ABDALA             ND   \n",
       "3     -49.730.104                       SP 479             24   \n",
       "4      -4.672.208         AVENIDA ANESIO GUIDE            300   \n",
       "\n",
       "  Outro Veículo Envolvido Tempo entre Acidente e o Óbito  \n",
       "0                     NaN                      Mesmo dia  \n",
       "1                     NaN                      Mesmo dia  \n",
       "2                     NaN                      Mesmo dia  \n",
       "3                     NaN                      Mesmo dia  \n",
       "4                     NaN                      Mesmo dia  \n",
       "\n",
       "[5 rows x 23 columns]"
      ]
     },
     "execution_count": 238,
     "metadata": {},
     "output_type": "execute_result"
    }
   ],
   "source": [
    "print(base_2015.info())\n",
    "print(base_2015.isnull().sum())\n",
    "\n",
    "base_2015.head()"
   ]
  },
  {
   "cell_type": "code",
   "execution_count": 239,
   "metadata": {},
   "outputs": [
    {
     "name": "stdout",
     "output_type": "stream",
     "text": [
      "<class 'pandas.core.frame.DataFrame'>\n",
      "RangeIndex: 3632 entries, 0 to 3631\n",
      "Data columns (total 23 columns):\n",
      "Id Infosiga                       3632 non-null int64\n",
      "Cidade Considerada                3632 non-null object\n",
      "Região Administrativa             3632 non-null object\n",
      "Ano Óbito                         3632 non-null int64\n",
      "Mês Óbito                         3632 non-null int64\n",
      "Mês Descrição                     3632 non-null object\n",
      "Sexo                              3589 non-null object\n",
      "Turno                             3632 non-null object\n",
      "Tipo Acidente                     3632 non-null object\n",
      "SubTipo do Acidente               387 non-null object\n",
      "Tipo Veiculo                      3632 non-null object\n",
      "Faixa Etária                      3632 non-null object\n",
      "Idade                             3632 non-null object\n",
      "Tipo Vítima                       3632 non-null object\n",
      "Tipo Local do Acidente            3504 non-null object\n",
      "Dia Semana                        3631 non-null object\n",
      "Tipo de Via                       3632 non-null object\n",
      "LAT_(geo)                         3632 non-null object\n",
      "LONG_(geo)                        3632 non-null object\n",
      "Rua / Rodovia                     3632 non-null object\n",
      "KM Arredondado                    3632 non-null object\n",
      "Outro Veículo Envolvido           412 non-null object\n",
      "Tempo entre Acidente e o Óbito    3628 non-null object\n",
      "dtypes: int64(3), object(20)\n",
      "memory usage: 652.7+ KB\n",
      "None\n",
      "Id Infosiga                          0\n",
      "Cidade Considerada                   0\n",
      "Região Administrativa                0\n",
      "Ano Óbito                            0\n",
      "Mês Óbito                            0\n",
      "Mês Descrição                        0\n",
      "Sexo                                43\n",
      "Turno                                0\n",
      "Tipo Acidente                        0\n",
      "SubTipo do Acidente               3245\n",
      "Tipo Veiculo                         0\n",
      "Faixa Etária                         0\n",
      "Idade                                0\n",
      "Tipo Vítima                          0\n",
      "Tipo Local do Acidente             128\n",
      "Dia Semana                           1\n",
      "Tipo de Via                          0\n",
      "LAT_(geo)                            0\n",
      "LONG_(geo)                           0\n",
      "Rua / Rodovia                        0\n",
      "KM Arredondado                       0\n",
      "Outro Veículo Envolvido           3220\n",
      "Tempo entre Acidente e o Óbito       4\n",
      "dtype: int64\n"
     ]
    },
    {
     "data": {
      "text/html": [
       "<div>\n",
       "<style scoped>\n",
       "    .dataframe tbody tr th:only-of-type {\n",
       "        vertical-align: middle;\n",
       "    }\n",
       "\n",
       "    .dataframe tbody tr th {\n",
       "        vertical-align: top;\n",
       "    }\n",
       "\n",
       "    .dataframe thead th {\n",
       "        text-align: right;\n",
       "    }\n",
       "</style>\n",
       "<table border=\"1\" class=\"dataframe\">\n",
       "  <thead>\n",
       "    <tr style=\"text-align: right;\">\n",
       "      <th></th>\n",
       "      <th>Id Infosiga</th>\n",
       "      <th>Cidade Considerada</th>\n",
       "      <th>Região Administrativa</th>\n",
       "      <th>Ano Óbito</th>\n",
       "      <th>Mês Óbito</th>\n",
       "      <th>Mês Descrição</th>\n",
       "      <th>Sexo</th>\n",
       "      <th>Turno</th>\n",
       "      <th>Tipo Acidente</th>\n",
       "      <th>SubTipo do Acidente</th>\n",
       "      <th>...</th>\n",
       "      <th>Tipo Vítima</th>\n",
       "      <th>Tipo Local do Acidente</th>\n",
       "      <th>Dia Semana</th>\n",
       "      <th>Tipo de Via</th>\n",
       "      <th>LAT_(geo)</th>\n",
       "      <th>LONG_(geo)</th>\n",
       "      <th>Rua / Rodovia</th>\n",
       "      <th>KM Arredondado</th>\n",
       "      <th>Outro Veículo Envolvido</th>\n",
       "      <th>Tempo entre Acidente e o Óbito</th>\n",
       "    </tr>\n",
       "  </thead>\n",
       "  <tbody>\n",
       "    <tr>\n",
       "      <th>0</th>\n",
       "      <td>11723</td>\n",
       "      <td>BARRETOS</td>\n",
       "      <td>Barretos</td>\n",
       "      <td>2016</td>\n",
       "      <td>2</td>\n",
       "      <td>FEVEREIRO</td>\n",
       "      <td>MASCULINO</td>\n",
       "      <td>NOITE</td>\n",
       "      <td>COLISAO</td>\n",
       "      <td>SubTipo do Acidente</td>\n",
       "      <td>...</td>\n",
       "      <td>CONDUTOR</td>\n",
       "      <td>PUBLICO</td>\n",
       "      <td>SEXTA</td>\n",
       "      <td>Rodovias</td>\n",
       "      <td>-2.055.111.617</td>\n",
       "      <td>-4.859.183.139</td>\n",
       "      <td>SP 326</td>\n",
       "      <td>424</td>\n",
       "      <td>Outro Veículo Envolvido</td>\n",
       "      <td>Mesmo dia</td>\n",
       "    </tr>\n",
       "    <tr>\n",
       "      <th>1</th>\n",
       "      <td>11909</td>\n",
       "      <td>BARUERI</td>\n",
       "      <td>Metropolitana de São Paulo</td>\n",
       "      <td>2016</td>\n",
       "      <td>2</td>\n",
       "      <td>FEVEREIRO</td>\n",
       "      <td>FEMININO</td>\n",
       "      <td>TARDE</td>\n",
       "      <td>NAO DISPONIVEL</td>\n",
       "      <td>NaN</td>\n",
       "      <td>...</td>\n",
       "      <td>NAO DISPONIVEL</td>\n",
       "      <td>PUBLICO</td>\n",
       "      <td>SEXTA</td>\n",
       "      <td>Rodovias</td>\n",
       "      <td>-2.350.494.785</td>\n",
       "      <td>-4.687.207.976</td>\n",
       "      <td>SP 280</td>\n",
       "      <td>26</td>\n",
       "      <td>NaN</td>\n",
       "      <td>Mesmo dia</td>\n",
       "    </tr>\n",
       "    <tr>\n",
       "      <th>2</th>\n",
       "      <td>51770</td>\n",
       "      <td>BATATAIS</td>\n",
       "      <td>Franca</td>\n",
       "      <td>2016</td>\n",
       "      <td>2</td>\n",
       "      <td>FEVEREIRO</td>\n",
       "      <td>MASCULINO</td>\n",
       "      <td>TARDE</td>\n",
       "      <td>OUTROS</td>\n",
       "      <td>QUEDA (ÁGUA. BARRANCO. PONTE)</td>\n",
       "      <td>...</td>\n",
       "      <td>CONDUTOR</td>\n",
       "      <td>PUBLICO</td>\n",
       "      <td>SEXTA</td>\n",
       "      <td>Vias Municipais</td>\n",
       "      <td>-20.869.552</td>\n",
       "      <td>-47.536.311</td>\n",
       "      <td>ESTRADA MUN. PREF. GERALDO MARINHEIRO</td>\n",
       "      <td>5</td>\n",
       "      <td>NÃO HÁ</td>\n",
       "      <td>Mesmo dia</td>\n",
       "    </tr>\n",
       "    <tr>\n",
       "      <th>3</th>\n",
       "      <td>51769</td>\n",
       "      <td>BATATAIS</td>\n",
       "      <td>Franca</td>\n",
       "      <td>2016</td>\n",
       "      <td>2</td>\n",
       "      <td>FEVEREIRO</td>\n",
       "      <td>FEMININO</td>\n",
       "      <td>TARDE</td>\n",
       "      <td>OUTROS</td>\n",
       "      <td>QUEDA (ÁGUA. BARRANCO. PONTE)</td>\n",
       "      <td>...</td>\n",
       "      <td>PASSAGEIRO</td>\n",
       "      <td>PUBLICO</td>\n",
       "      <td>SEXTA</td>\n",
       "      <td>Vias Municipais</td>\n",
       "      <td>-20.869.552</td>\n",
       "      <td>-47.536.311</td>\n",
       "      <td>ESTRADA MUN. PREF. GERALDO MARINHEIRO</td>\n",
       "      <td>5</td>\n",
       "      <td>NÃO HÁ</td>\n",
       "      <td>Mesmo dia</td>\n",
       "    </tr>\n",
       "    <tr>\n",
       "      <th>4</th>\n",
       "      <td>51768</td>\n",
       "      <td>BATATAIS</td>\n",
       "      <td>Franca</td>\n",
       "      <td>2016</td>\n",
       "      <td>2</td>\n",
       "      <td>FEVEREIRO</td>\n",
       "      <td>FEMININO</td>\n",
       "      <td>TARDE</td>\n",
       "      <td>OUTROS</td>\n",
       "      <td>QUEDA (ÁGUA. BARRANCO. PONTE)</td>\n",
       "      <td>...</td>\n",
       "      <td>PASSAGEIRO</td>\n",
       "      <td>PUBLICO</td>\n",
       "      <td>SEXTA</td>\n",
       "      <td>Vias Municipais</td>\n",
       "      <td>-20.869.552</td>\n",
       "      <td>-47.536.311</td>\n",
       "      <td>ESTRADA MUN. PREF. GERALDO MARINHEIRO</td>\n",
       "      <td>5</td>\n",
       "      <td>NÃO HÁ</td>\n",
       "      <td>Mesmo dia</td>\n",
       "    </tr>\n",
       "  </tbody>\n",
       "</table>\n",
       "<p>5 rows × 23 columns</p>\n",
       "</div>"
      ],
      "text/plain": [
       "   Id Infosiga Cidade Considerada       Região Administrativa  Ano Óbito  \\\n",
       "0        11723           BARRETOS                    Barretos       2016   \n",
       "1        11909            BARUERI  Metropolitana de São Paulo       2016   \n",
       "2        51770           BATATAIS                      Franca       2016   \n",
       "3        51769           BATATAIS                      Franca       2016   \n",
       "4        51768           BATATAIS                      Franca       2016   \n",
       "\n",
       "   Mês Óbito Mês Descrição       Sexo  Turno   Tipo Acidente  \\\n",
       "0          2     FEVEREIRO  MASCULINO  NOITE         COLISAO   \n",
       "1          2     FEVEREIRO   FEMININO  TARDE  NAO DISPONIVEL   \n",
       "2          2     FEVEREIRO  MASCULINO  TARDE          OUTROS   \n",
       "3          2     FEVEREIRO   FEMININO  TARDE          OUTROS   \n",
       "4          2     FEVEREIRO   FEMININO  TARDE          OUTROS   \n",
       "\n",
       "             SubTipo do Acidente              ...                \\\n",
       "0            SubTipo do Acidente              ...                 \n",
       "1                            NaN              ...                 \n",
       "2  QUEDA (ÁGUA. BARRANCO. PONTE)              ...                 \n",
       "3  QUEDA (ÁGUA. BARRANCO. PONTE)              ...                 \n",
       "4  QUEDA (ÁGUA. BARRANCO. PONTE)              ...                 \n",
       "\n",
       "      Tipo Vítima Tipo Local do Acidente Dia Semana      Tipo de Via  \\\n",
       "0        CONDUTOR                PUBLICO      SEXTA         Rodovias   \n",
       "1  NAO DISPONIVEL                PUBLICO      SEXTA         Rodovias   \n",
       "2        CONDUTOR                PUBLICO      SEXTA  Vias Municipais   \n",
       "3      PASSAGEIRO                PUBLICO      SEXTA  Vias Municipais   \n",
       "4      PASSAGEIRO                PUBLICO      SEXTA  Vias Municipais   \n",
       "\n",
       "        LAT_(geo)      LONG_(geo)                          Rua / Rodovia  \\\n",
       "0  -2.055.111.617  -4.859.183.139                                 SP 326   \n",
       "1  -2.350.494.785  -4.687.207.976                                 SP 280   \n",
       "2     -20.869.552     -47.536.311  ESTRADA MUN. PREF. GERALDO MARINHEIRO   \n",
       "3     -20.869.552     -47.536.311  ESTRADA MUN. PREF. GERALDO MARINHEIRO   \n",
       "4     -20.869.552     -47.536.311  ESTRADA MUN. PREF. GERALDO MARINHEIRO   \n",
       "\n",
       "  KM Arredondado  Outro Veículo Envolvido Tempo entre Acidente e o Óbito  \n",
       "0            424  Outro Veículo Envolvido                      Mesmo dia  \n",
       "1             26                      NaN                      Mesmo dia  \n",
       "2              5                   NÃO HÁ                      Mesmo dia  \n",
       "3              5                   NÃO HÁ                      Mesmo dia  \n",
       "4              5                   NÃO HÁ                      Mesmo dia  \n",
       "\n",
       "[5 rows x 23 columns]"
      ]
     },
     "execution_count": 239,
     "metadata": {},
     "output_type": "execute_result"
    }
   ],
   "source": [
    "print(base_2016.info())\n",
    "print(base_2016.isnull().sum())\n",
    "\n",
    "base_2016.head()"
   ]
  },
  {
   "cell_type": "code",
   "execution_count": 240,
   "metadata": {},
   "outputs": [
    {
     "name": "stdout",
     "output_type": "stream",
     "text": [
      "<class 'pandas.core.frame.DataFrame'>\n",
      "RangeIndex: 5658 entries, 0 to 5657\n",
      "Data columns (total 23 columns):\n",
      "Id Infosiga                       5658 non-null int64\n",
      "Cidade Considerada                5658 non-null object\n",
      "Região Administrativa             5658 non-null object\n",
      "Ano Óbito                         5658 non-null int64\n",
      "Mês Óbito                         5658 non-null int64\n",
      "Mês Descrição                     5658 non-null object\n",
      "Sexo                              5655 non-null object\n",
      "Turno                             5658 non-null object\n",
      "Tipo Acidente                     5658 non-null object\n",
      "SubTipo do Acidente               280 non-null object\n",
      "Tipo Veiculo                      5658 non-null object\n",
      "Faixa Etária                      5658 non-null object\n",
      "Idade                             5658 non-null object\n",
      "Tipo Vítima                       5658 non-null object\n",
      "Tipo Local do Acidente            5655 non-null object\n",
      "Dia Semana                        5657 non-null object\n",
      "Tipo de Via                       5658 non-null object\n",
      "LAT_(geo)                         5658 non-null object\n",
      "LONG_(geo)                        5658 non-null object\n",
      "Rua / Rodovia                     5658 non-null object\n",
      "KM Arredondado                    5658 non-null object\n",
      "Outro Veículo Envolvido           5644 non-null object\n",
      "Tempo entre Acidente e o Óbito    5624 non-null object\n",
      "dtypes: int64(3), object(20)\n",
      "memory usage: 1016.8+ KB\n",
      "None\n",
      "Id Infosiga                          0\n",
      "Cidade Considerada                   0\n",
      "Região Administrativa                0\n",
      "Ano Óbito                            0\n",
      "Mês Óbito                            0\n",
      "Mês Descrição                        0\n",
      "Sexo                                 3\n",
      "Turno                                0\n",
      "Tipo Acidente                        0\n",
      "SubTipo do Acidente               5378\n",
      "Tipo Veiculo                         0\n",
      "Faixa Etária                         0\n",
      "Idade                                0\n",
      "Tipo Vítima                          0\n",
      "Tipo Local do Acidente               3\n",
      "Dia Semana                           1\n",
      "Tipo de Via                          0\n",
      "LAT_(geo)                            0\n",
      "LONG_(geo)                           0\n",
      "Rua / Rodovia                        0\n",
      "KM Arredondado                       0\n",
      "Outro Veículo Envolvido             14\n",
      "Tempo entre Acidente e o Óbito      34\n",
      "dtype: int64\n"
     ]
    },
    {
     "data": {
      "text/html": [
       "<div>\n",
       "<style scoped>\n",
       "    .dataframe tbody tr th:only-of-type {\n",
       "        vertical-align: middle;\n",
       "    }\n",
       "\n",
       "    .dataframe tbody tr th {\n",
       "        vertical-align: top;\n",
       "    }\n",
       "\n",
       "    .dataframe thead th {\n",
       "        text-align: right;\n",
       "    }\n",
       "</style>\n",
       "<table border=\"1\" class=\"dataframe\">\n",
       "  <thead>\n",
       "    <tr style=\"text-align: right;\">\n",
       "      <th></th>\n",
       "      <th>Id Infosiga</th>\n",
       "      <th>Cidade Considerada</th>\n",
       "      <th>Região Administrativa</th>\n",
       "      <th>Ano Óbito</th>\n",
       "      <th>Mês Óbito</th>\n",
       "      <th>Mês Descrição</th>\n",
       "      <th>Sexo</th>\n",
       "      <th>Turno</th>\n",
       "      <th>Tipo Acidente</th>\n",
       "      <th>SubTipo do Acidente</th>\n",
       "      <th>...</th>\n",
       "      <th>Tipo Vítima</th>\n",
       "      <th>Tipo Local do Acidente</th>\n",
       "      <th>Dia Semana</th>\n",
       "      <th>Tipo de Via</th>\n",
       "      <th>LAT_(geo)</th>\n",
       "      <th>LONG_(geo)</th>\n",
       "      <th>Rua / Rodovia</th>\n",
       "      <th>KM Arredondado</th>\n",
       "      <th>Outro Veículo Envolvido</th>\n",
       "      <th>Tempo entre Acidente e o Óbito</th>\n",
       "    </tr>\n",
       "  </thead>\n",
       "  <tbody>\n",
       "    <tr>\n",
       "      <th>0</th>\n",
       "      <td>20854</td>\n",
       "      <td>AGUAS DE LINDOIA</td>\n",
       "      <td>Campinas</td>\n",
       "      <td>2017</td>\n",
       "      <td>9</td>\n",
       "      <td>SETEMBRO</td>\n",
       "      <td>MASCULINO</td>\n",
       "      <td>TARDE</td>\n",
       "      <td>ATROPELAMENTO</td>\n",
       "      <td>NaN</td>\n",
       "      <td>...</td>\n",
       "      <td>PEDESTRE</td>\n",
       "      <td>PUBLICO</td>\n",
       "      <td>DOMINGO</td>\n",
       "      <td>Vias Municipais</td>\n",
       "      <td>-22.480.843</td>\n",
       "      <td>-46.596.416</td>\n",
       "      <td>RUA B ALVES BARBOSA</td>\n",
       "      <td>385</td>\n",
       "      <td>AUTOMOVEL</td>\n",
       "      <td>Mesmo dia</td>\n",
       "    </tr>\n",
       "    <tr>\n",
       "      <th>1</th>\n",
       "      <td>20590</td>\n",
       "      <td>ALTINOPOLIS</td>\n",
       "      <td>Ribeirão Preto</td>\n",
       "      <td>2017</td>\n",
       "      <td>9</td>\n",
       "      <td>SETEMBRO</td>\n",
       "      <td>MASCULINO</td>\n",
       "      <td>NOITE</td>\n",
       "      <td>OUTROS</td>\n",
       "      <td>NaN</td>\n",
       "      <td>...</td>\n",
       "      <td>CONDUTOR</td>\n",
       "      <td>PUBLICO</td>\n",
       "      <td>SEGUNDA</td>\n",
       "      <td>Rodovias</td>\n",
       "      <td>-2.102.362.225</td>\n",
       "      <td>-4.725.415.377</td>\n",
       "      <td>SP 351</td>\n",
       "      <td>12</td>\n",
       "      <td>NAO DISPONIVEL</td>\n",
       "      <td>Mesmo dia</td>\n",
       "    </tr>\n",
       "    <tr>\n",
       "      <th>2</th>\n",
       "      <td>21024</td>\n",
       "      <td>AMERICANA</td>\n",
       "      <td>Campinas</td>\n",
       "      <td>2017</td>\n",
       "      <td>9</td>\n",
       "      <td>SETEMBRO</td>\n",
       "      <td>MASCULINO</td>\n",
       "      <td>NOITE</td>\n",
       "      <td>COLISAO</td>\n",
       "      <td>NaN</td>\n",
       "      <td>...</td>\n",
       "      <td>CONDUTOR</td>\n",
       "      <td>PUBLICO</td>\n",
       "      <td>DOMINGO</td>\n",
       "      <td>Vias Municipais</td>\n",
       "      <td>-22.729.454</td>\n",
       "      <td>-47.320.204</td>\n",
       "      <td>RUA SAO SEBASTIAO</td>\n",
       "      <td>ND</td>\n",
       "      <td>AUTOMOVEL</td>\n",
       "      <td>Até 7 dias</td>\n",
       "    </tr>\n",
       "    <tr>\n",
       "      <th>3</th>\n",
       "      <td>20985</td>\n",
       "      <td>AMERICANA</td>\n",
       "      <td>Campinas</td>\n",
       "      <td>2017</td>\n",
       "      <td>9</td>\n",
       "      <td>SETEMBRO</td>\n",
       "      <td>MASCULINO</td>\n",
       "      <td>MADRUGADA</td>\n",
       "      <td>NAO DISPONIVEL</td>\n",
       "      <td>NaN</td>\n",
       "      <td>...</td>\n",
       "      <td>NAO DISPONIVEL</td>\n",
       "      <td>PUBLICO</td>\n",
       "      <td>DOMINGO</td>\n",
       "      <td>Vias Municipais</td>\n",
       "      <td>-22.765.891</td>\n",
       "      <td>-473.429</td>\n",
       "      <td>AVENIDA DE CILLOS</td>\n",
       "      <td>ND</td>\n",
       "      <td>NAO DISPONIVEL</td>\n",
       "      <td>Até 30 dias</td>\n",
       "    </tr>\n",
       "    <tr>\n",
       "      <th>4</th>\n",
       "      <td>20638</td>\n",
       "      <td>AMERICO BRASILIENSE</td>\n",
       "      <td>Central</td>\n",
       "      <td>2017</td>\n",
       "      <td>9</td>\n",
       "      <td>SETEMBRO</td>\n",
       "      <td>MASCULINO</td>\n",
       "      <td>NOITE</td>\n",
       "      <td>COLISAO</td>\n",
       "      <td>NaN</td>\n",
       "      <td>...</td>\n",
       "      <td>CONDUTOR</td>\n",
       "      <td>PUBLICO</td>\n",
       "      <td>SEXTA</td>\n",
       "      <td>Rodovias</td>\n",
       "      <td>-2.171.398.144</td>\n",
       "      <td>-4.803.491.521</td>\n",
       "      <td>SP 255</td>\n",
       "      <td>64</td>\n",
       "      <td>CAMINHAO</td>\n",
       "      <td>Mesmo dia</td>\n",
       "    </tr>\n",
       "  </tbody>\n",
       "</table>\n",
       "<p>5 rows × 23 columns</p>\n",
       "</div>"
      ],
      "text/plain": [
       "   Id Infosiga   Cidade Considerada Região Administrativa  Ano Óbito  \\\n",
       "0        20854     AGUAS DE LINDOIA              Campinas       2017   \n",
       "1        20590          ALTINOPOLIS        Ribeirão Preto       2017   \n",
       "2        21024            AMERICANA              Campinas       2017   \n",
       "3        20985            AMERICANA              Campinas       2017   \n",
       "4        20638  AMERICO BRASILIENSE               Central       2017   \n",
       "\n",
       "   Mês Óbito Mês Descrição       Sexo      Turno   Tipo Acidente  \\\n",
       "0          9      SETEMBRO  MASCULINO      TARDE   ATROPELAMENTO   \n",
       "1          9      SETEMBRO  MASCULINO      NOITE          OUTROS   \n",
       "2          9      SETEMBRO  MASCULINO      NOITE         COLISAO   \n",
       "3          9      SETEMBRO  MASCULINO  MADRUGADA  NAO DISPONIVEL   \n",
       "4          9      SETEMBRO  MASCULINO      NOITE         COLISAO   \n",
       "\n",
       "  SubTipo do Acidente              ...                   Tipo Vítima  \\\n",
       "0                 NaN              ...                      PEDESTRE   \n",
       "1                 NaN              ...                      CONDUTOR   \n",
       "2                 NaN              ...                      CONDUTOR   \n",
       "3                 NaN              ...                NAO DISPONIVEL   \n",
       "4                 NaN              ...                      CONDUTOR   \n",
       "\n",
       "  Tipo Local do Acidente Dia Semana      Tipo de Via       LAT_(geo)  \\\n",
       "0                PUBLICO    DOMINGO  Vias Municipais     -22.480.843   \n",
       "1                PUBLICO    SEGUNDA         Rodovias  -2.102.362.225   \n",
       "2                PUBLICO    DOMINGO  Vias Municipais     -22.729.454   \n",
       "3                PUBLICO    DOMINGO  Vias Municipais     -22.765.891   \n",
       "4                PUBLICO      SEXTA         Rodovias  -2.171.398.144   \n",
       "\n",
       "       LONG_(geo)        Rua / Rodovia KM Arredondado Outro Veículo Envolvido  \\\n",
       "0     -46.596.416  RUA B ALVES BARBOSA            385               AUTOMOVEL   \n",
       "1  -4.725.415.377               SP 351             12          NAO DISPONIVEL   \n",
       "2     -47.320.204    RUA SAO SEBASTIAO             ND               AUTOMOVEL   \n",
       "3        -473.429    AVENIDA DE CILLOS             ND          NAO DISPONIVEL   \n",
       "4  -4.803.491.521               SP 255             64                CAMINHAO   \n",
       "\n",
       "  Tempo entre Acidente e o Óbito  \n",
       "0                      Mesmo dia  \n",
       "1                      Mesmo dia  \n",
       "2                     Até 7 dias  \n",
       "3                    Até 30 dias  \n",
       "4                      Mesmo dia  \n",
       "\n",
       "[5 rows x 23 columns]"
      ]
     },
     "execution_count": 240,
     "metadata": {},
     "output_type": "execute_result"
    }
   ],
   "source": [
    "print(base_2017.info())\n",
    "print(base_2017.isnull().sum())\n",
    "\n",
    "base_2017.head()"
   ]
  },
  {
   "cell_type": "code",
   "execution_count": 241,
   "metadata": {},
   "outputs": [
    {
     "name": "stdout",
     "output_type": "stream",
     "text": [
      "<class 'pandas.core.frame.DataFrame'>\n",
      "RangeIndex: 5459 entries, 0 to 5458\n",
      "Data columns (total 23 columns):\n",
      "Id Infosiga                       5459 non-null int64\n",
      "Cidade Considerada                5459 non-null object\n",
      "Região Administrativa             5459 non-null object\n",
      "Ano Óbito                         5459 non-null int64\n",
      "Mês Óbito                         5459 non-null int64\n",
      "Mês Descrição                     5459 non-null object\n",
      "Sexo                              5459 non-null object\n",
      "Turno                             5459 non-null object\n",
      "Tipo Acidente                     5459 non-null object\n",
      "SubTipo do Acidente               5459 non-null object\n",
      "Tipo Veiculo                      5459 non-null object\n",
      "Faixa Etária                      5459 non-null object\n",
      "Idade                             5459 non-null object\n",
      "Tipo Vítima                       5459 non-null object\n",
      "Tipo Local do Acidente            5459 non-null object\n",
      "Dia Semana                        5459 non-null object\n",
      "Tipo de Via                       5459 non-null object\n",
      "LAT_(geo)                         5459 non-null object\n",
      "LONG_(geo)                        5459 non-null object\n",
      "Rua / Rodovia                     5459 non-null object\n",
      "KM Arredondado                    5459 non-null object\n",
      "Outro Veículo Envolvido           5459 non-null object\n",
      "Tempo entre Acidente e o Óbito    5459 non-null object\n",
      "dtypes: int64(3), object(20)\n",
      "memory usage: 981.0+ KB\n",
      "None\n",
      "Id Infosiga                       0\n",
      "Cidade Considerada                0\n",
      "Região Administrativa             0\n",
      "Ano Óbito                         0\n",
      "Mês Óbito                         0\n",
      "Mês Descrição                     0\n",
      "Sexo                              0\n",
      "Turno                             0\n",
      "Tipo Acidente                     0\n",
      "SubTipo do Acidente               0\n",
      "Tipo Veiculo                      0\n",
      "Faixa Etária                      0\n",
      "Idade                             0\n",
      "Tipo Vítima                       0\n",
      "Tipo Local do Acidente            0\n",
      "Dia Semana                        0\n",
      "Tipo de Via                       0\n",
      "LAT_(geo)                         0\n",
      "LONG_(geo)                        0\n",
      "Rua / Rodovia                     0\n",
      "KM Arredondado                    0\n",
      "Outro Veículo Envolvido           0\n",
      "Tempo entre Acidente e o Óbito    0\n",
      "dtype: int64\n"
     ]
    },
    {
     "data": {
      "text/html": [
       "<div>\n",
       "<style scoped>\n",
       "    .dataframe tbody tr th:only-of-type {\n",
       "        vertical-align: middle;\n",
       "    }\n",
       "\n",
       "    .dataframe tbody tr th {\n",
       "        vertical-align: top;\n",
       "    }\n",
       "\n",
       "    .dataframe thead th {\n",
       "        text-align: right;\n",
       "    }\n",
       "</style>\n",
       "<table border=\"1\" class=\"dataframe\">\n",
       "  <thead>\n",
       "    <tr style=\"text-align: right;\">\n",
       "      <th></th>\n",
       "      <th>Id Infosiga</th>\n",
       "      <th>Cidade Considerada</th>\n",
       "      <th>Região Administrativa</th>\n",
       "      <th>Ano Óbito</th>\n",
       "      <th>Mês Óbito</th>\n",
       "      <th>Mês Descrição</th>\n",
       "      <th>Sexo</th>\n",
       "      <th>Turno</th>\n",
       "      <th>Tipo Acidente</th>\n",
       "      <th>SubTipo do Acidente</th>\n",
       "      <th>...</th>\n",
       "      <th>Tipo Vítima</th>\n",
       "      <th>Tipo Local do Acidente</th>\n",
       "      <th>Dia Semana</th>\n",
       "      <th>Tipo de Via</th>\n",
       "      <th>LAT_(geo)</th>\n",
       "      <th>LONG_(geo)</th>\n",
       "      <th>Rua / Rodovia</th>\n",
       "      <th>KM Arredondado</th>\n",
       "      <th>Outro Veículo Envolvido</th>\n",
       "      <th>Tempo entre Acidente e o Óbito</th>\n",
       "    </tr>\n",
       "  </thead>\n",
       "  <tbody>\n",
       "    <tr>\n",
       "      <th>0</th>\n",
       "      <td>52762</td>\n",
       "      <td>ADAMANTINA</td>\n",
       "      <td>Presidente Prudente</td>\n",
       "      <td>2018</td>\n",
       "      <td>9</td>\n",
       "      <td>SETEMBRO</td>\n",
       "      <td>MASCULINO</td>\n",
       "      <td>TARDE</td>\n",
       "      <td>COLISAO</td>\n",
       "      <td>FRONTAL</td>\n",
       "      <td>...</td>\n",
       "      <td>CONDUTOR</td>\n",
       "      <td>PUBLICO</td>\n",
       "      <td>QUARTA</td>\n",
       "      <td>Rodovias</td>\n",
       "      <td>-2.167.348.528</td>\n",
       "      <td>-5.106.730.006</td>\n",
       "      <td>SP 294</td>\n",
       "      <td>593</td>\n",
       "      <td>CAMINHAO</td>\n",
       "      <td>Mesmo dia</td>\n",
       "    </tr>\n",
       "    <tr>\n",
       "      <th>1</th>\n",
       "      <td>53262</td>\n",
       "      <td>ALAMBARI</td>\n",
       "      <td>Sorocaba</td>\n",
       "      <td>2018</td>\n",
       "      <td>9</td>\n",
       "      <td>SETEMBRO</td>\n",
       "      <td>MASCULINO</td>\n",
       "      <td>NAO DISPONIVEL</td>\n",
       "      <td>OUTROS</td>\n",
       "      <td>TOMBAMENTO VEÍCULO DE 2 RODAS</td>\n",
       "      <td>...</td>\n",
       "      <td>CONDUTOR</td>\n",
       "      <td>PUBLICO</td>\n",
       "      <td>SÁBADO</td>\n",
       "      <td>NAO DISPONIVEL</td>\n",
       "      <td>NAO DISPONIVEL</td>\n",
       "      <td>NAO DISPONIVEL</td>\n",
       "      <td>NAO DISPONIVEL</td>\n",
       "      <td>ND</td>\n",
       "      <td>NÃO HÁ</td>\n",
       "      <td>Até 30 dias</td>\n",
       "    </tr>\n",
       "    <tr>\n",
       "      <th>2</th>\n",
       "      <td>52913</td>\n",
       "      <td>ALTINOPOLIS</td>\n",
       "      <td>Ribeirão Preto</td>\n",
       "      <td>2018</td>\n",
       "      <td>9</td>\n",
       "      <td>SETEMBRO</td>\n",
       "      <td>MASCULINO</td>\n",
       "      <td>TARDE</td>\n",
       "      <td>COLISAO</td>\n",
       "      <td>TRANSVERSAL</td>\n",
       "      <td>...</td>\n",
       "      <td>CONDUTOR</td>\n",
       "      <td>PUBLICO</td>\n",
       "      <td>DOMINGO</td>\n",
       "      <td>Rodovias</td>\n",
       "      <td>-2.101.146.936</td>\n",
       "      <td>-4.739.666.736</td>\n",
       "      <td>SP 351</td>\n",
       "      <td>26</td>\n",
       "      <td>AUTOMOVEL</td>\n",
       "      <td>Mesmo dia</td>\n",
       "    </tr>\n",
       "    <tr>\n",
       "      <th>3</th>\n",
       "      <td>52716</td>\n",
       "      <td>ALVARES MACHADO</td>\n",
       "      <td>Presidente Prudente</td>\n",
       "      <td>2018</td>\n",
       "      <td>9</td>\n",
       "      <td>SETEMBRO</td>\n",
       "      <td>MASCULINO</td>\n",
       "      <td>NOITE</td>\n",
       "      <td>COLISAO</td>\n",
       "      <td>LATERAL</td>\n",
       "      <td>...</td>\n",
       "      <td>CONDUTOR</td>\n",
       "      <td>PUBLICO</td>\n",
       "      <td>SEXTA</td>\n",
       "      <td>Vias Municipais</td>\n",
       "      <td>-22.121.073</td>\n",
       "      <td>-51.516.007</td>\n",
       "      <td>VICINAL VEREADOR JOSE MOLINA</td>\n",
       "      <td>9</td>\n",
       "      <td>AUTOMOVEL</td>\n",
       "      <td>Mesmo dia</td>\n",
       "    </tr>\n",
       "    <tr>\n",
       "      <th>4</th>\n",
       "      <td>52907</td>\n",
       "      <td>AMERICANA</td>\n",
       "      <td>Campinas</td>\n",
       "      <td>2018</td>\n",
       "      <td>9</td>\n",
       "      <td>SETEMBRO</td>\n",
       "      <td>MASCULINO</td>\n",
       "      <td>MADRUGADA</td>\n",
       "      <td>COLISAO</td>\n",
       "      <td>TRASEIRA</td>\n",
       "      <td>...</td>\n",
       "      <td>CONDUTOR</td>\n",
       "      <td>PUBLICO</td>\n",
       "      <td>SÁBADO</td>\n",
       "      <td>Rodovias</td>\n",
       "      <td>-2.276.030.063</td>\n",
       "      <td>-473.300.732</td>\n",
       "      <td>SP 304</td>\n",
       "      <td>128</td>\n",
       "      <td>AUTOMOVEL</td>\n",
       "      <td>Mesmo dia</td>\n",
       "    </tr>\n",
       "  </tbody>\n",
       "</table>\n",
       "<p>5 rows × 23 columns</p>\n",
       "</div>"
      ],
      "text/plain": [
       "   Id Infosiga Cidade Considerada Região Administrativa  Ano Óbito  Mês Óbito  \\\n",
       "0        52762         ADAMANTINA   Presidente Prudente       2018          9   \n",
       "1        53262           ALAMBARI              Sorocaba       2018          9   \n",
       "2        52913        ALTINOPOLIS        Ribeirão Preto       2018          9   \n",
       "3        52716    ALVARES MACHADO   Presidente Prudente       2018          9   \n",
       "4        52907          AMERICANA              Campinas       2018          9   \n",
       "\n",
       "  Mês Descrição       Sexo           Turno Tipo Acidente  \\\n",
       "0      SETEMBRO  MASCULINO           TARDE       COLISAO   \n",
       "1      SETEMBRO  MASCULINO  NAO DISPONIVEL        OUTROS   \n",
       "2      SETEMBRO  MASCULINO           TARDE       COLISAO   \n",
       "3      SETEMBRO  MASCULINO           NOITE       COLISAO   \n",
       "4      SETEMBRO  MASCULINO       MADRUGADA       COLISAO   \n",
       "\n",
       "             SubTipo do Acidente              ...               Tipo Vítima  \\\n",
       "0                        FRONTAL              ...                  CONDUTOR   \n",
       "1  TOMBAMENTO VEÍCULO DE 2 RODAS              ...                  CONDUTOR   \n",
       "2                    TRANSVERSAL              ...                  CONDUTOR   \n",
       "3                        LATERAL              ...                  CONDUTOR   \n",
       "4                       TRASEIRA              ...                  CONDUTOR   \n",
       "\n",
       "  Tipo Local do Acidente Dia Semana      Tipo de Via       LAT_(geo)  \\\n",
       "0                PUBLICO     QUARTA         Rodovias  -2.167.348.528   \n",
       "1                PUBLICO     SÁBADO   NAO DISPONIVEL  NAO DISPONIVEL   \n",
       "2                PUBLICO    DOMINGO         Rodovias  -2.101.146.936   \n",
       "3                PUBLICO      SEXTA  Vias Municipais     -22.121.073   \n",
       "4                PUBLICO     SÁBADO         Rodovias  -2.276.030.063   \n",
       "\n",
       "       LONG_(geo)                 Rua / Rodovia KM Arredondado  \\\n",
       "0  -5.106.730.006                        SP 294            593   \n",
       "1  NAO DISPONIVEL                NAO DISPONIVEL             ND   \n",
       "2  -4.739.666.736                        SP 351             26   \n",
       "3     -51.516.007  VICINAL VEREADOR JOSE MOLINA              9   \n",
       "4    -473.300.732                        SP 304            128   \n",
       "\n",
       "  Outro Veículo Envolvido Tempo entre Acidente e o Óbito  \n",
       "0                CAMINHAO                      Mesmo dia  \n",
       "1                  NÃO HÁ                    Até 30 dias  \n",
       "2               AUTOMOVEL                      Mesmo dia  \n",
       "3               AUTOMOVEL                      Mesmo dia  \n",
       "4               AUTOMOVEL                      Mesmo dia  \n",
       "\n",
       "[5 rows x 23 columns]"
      ]
     },
     "execution_count": 241,
     "metadata": {},
     "output_type": "execute_result"
    }
   ],
   "source": [
    "print(base_2018.info())\n",
    "print(base_2018.isnull().sum())\n",
    "\n",
    "base_2018.head()"
   ]
  },
  {
   "cell_type": "code",
   "execution_count": 242,
   "metadata": {},
   "outputs": [
    {
     "name": "stdout",
     "output_type": "stream",
     "text": [
      "<class 'pandas.core.frame.DataFrame'>\n",
      "RangeIndex: 1205 entries, 0 to 1204\n",
      "Data columns (total 23 columns):\n",
      "Id Infosiga                       1205 non-null int64\n",
      "Cidade Considerada                1205 non-null object\n",
      "Região Administrativa             1205 non-null object\n",
      "Ano Óbito                         1205 non-null int64\n",
      "Mês Óbito                         1205 non-null int64\n",
      "Mês Descrição                     1205 non-null object\n",
      "Sexo                              1205 non-null object\n",
      "Turno                             1205 non-null object\n",
      "Tipo Acidente                     1205 non-null object\n",
      "SubTipo do Acidente               1205 non-null object\n",
      "Tipo Veiculo                      1205 non-null object\n",
      "Faixa Etária                      1205 non-null object\n",
      "Idade                             1205 non-null object\n",
      "Tipo Vítima                       1205 non-null object\n",
      "Tipo Local do Acidente            1205 non-null object\n",
      "Dia Semana                        1205 non-null object\n",
      "Tipo de Via                       1205 non-null object\n",
      "LAT_(geo)                         1205 non-null object\n",
      "LONG_(geo)                        1205 non-null object\n",
      "Rua / Rodovia                     1205 non-null object\n",
      "KM Arredondado                    1205 non-null object\n",
      "Outro Veículo Envolvido           1205 non-null object\n",
      "Tempo entre Acidente e o Óbito    1205 non-null object\n",
      "dtypes: int64(3), object(20)\n",
      "memory usage: 216.6+ KB\n",
      "None\n",
      "Id Infosiga                       0\n",
      "Cidade Considerada                0\n",
      "Região Administrativa             0\n",
      "Ano Óbito                         0\n",
      "Mês Óbito                         0\n",
      "Mês Descrição                     0\n",
      "Sexo                              0\n",
      "Turno                             0\n",
      "Tipo Acidente                     0\n",
      "SubTipo do Acidente               0\n",
      "Tipo Veiculo                      0\n",
      "Faixa Etária                      0\n",
      "Idade                             0\n",
      "Tipo Vítima                       0\n",
      "Tipo Local do Acidente            0\n",
      "Dia Semana                        0\n",
      "Tipo de Via                       0\n",
      "LAT_(geo)                         0\n",
      "LONG_(geo)                        0\n",
      "Rua / Rodovia                     0\n",
      "KM Arredondado                    0\n",
      "Outro Veículo Envolvido           0\n",
      "Tempo entre Acidente e o Óbito    0\n",
      "dtype: int64\n"
     ]
    },
    {
     "data": {
      "text/plain": [
       "Index(['Id Infosiga', 'Cidade Considerada', 'Região Administrativa',\n",
       "       'Ano Óbito', 'Mês Óbito', 'Mês Descrição', 'Sexo', 'Turno',\n",
       "       'Tipo Acidente', 'SubTipo do Acidente', 'Tipo Veiculo', 'Faixa Etária',\n",
       "       'Idade', 'Tipo Vítima', 'Tipo Local do Acidente', 'Dia Semana',\n",
       "       'Tipo de Via', 'LAT_(geo)', 'LONG_(geo)', 'Rua / Rodovia',\n",
       "       'KM Arredondado', 'Outro Veículo Envolvido',\n",
       "       'Tempo entre Acidente e o Óbito'],\n",
       "      dtype='object')"
      ]
     },
     "execution_count": 242,
     "metadata": {},
     "output_type": "execute_result"
    }
   ],
   "source": [
    "print(base_2019.info())\n",
    "print(base_2019.isnull().sum())\n",
    "\n",
    "base_2019.head()\n",
    "base_2019.columns"
   ]
  },
  {
   "cell_type": "markdown",
   "metadata": {},
   "source": [
    "### Colunas a deletar:\n",
    "Foi verificado que todos os df têm as mesmas colunas e elas estão na mesma ordem\n",
    "\n",
    "Não são necessárias as seguintes colunas:\n",
    "- Id Infosiga\n",
    "- LAT_(geo)\n",
    "- LONG_(geo)\n",
    "- KM Arredondado"
   ]
  },
  {
   "cell_type": "code",
   "execution_count": 243,
   "metadata": {},
   "outputs": [],
   "source": [
    "#______________________________RODAR\n",
    "# criar uma lista com os df para fazer as modificações emtodos ao mesmo tempo\n",
    "data = [base_2015, base_2016, base_2017, base_2018, base_2019]\n",
    "\n",
    "#lista das colunas a deletar\n",
    "drop_col = ['Id Infosiga', 'LAT_(geo)', 'LONG_(geo)', 'KM Arredondado']\n",
    "\n",
    "mant_col = ['Cidade Considerada', 'Região Administrativa','Ano Óbito', 'Mês Óbito',\n",
    "            'Mês Descrição', 'Sexo', 'Turno','Tipo Acidente', 'SubTipo do Acidente',\n",
    "            'Tipo Veiculo', 'Faixa Etária','Idade', 'Tipo Vítima', 'Tipo Local do Acidente',\n",
    "            'Dia Semana', 'Tipo de Via', 'Rua / Rodovia','Outro Veículo Envolvido','Tempo entre Acidente e o Óbito']"
   ]
  },
  {
   "cell_type": "code",
   "execution_count": 244,
   "metadata": {},
   "outputs": [],
   "source": [
    "#______________________________RODAR\n",
    "# deletando as colunas desnecessárias:\n",
    "\n",
    "for dataset in data:\n",
    "    dataset.drop(drop_col, axis=1, inplace=True)\n"
   ]
  },
  {
   "cell_type": "code",
   "execution_count": 250,
   "metadata": {},
   "outputs": [
    {
     "name": "stdout",
     "output_type": "stream",
     "text": [
      "<class 'pandas.core.frame.DataFrame'>\n",
      "RangeIndex: 1205 entries, 0 to 1204\n",
      "Data columns (total 19 columns):\n",
      "Cidade Considerada                1205 non-null object\n",
      "Região Administrativa             1205 non-null object\n",
      "Ano Óbito                         1205 non-null int64\n",
      "Mês Óbito                         1205 non-null int64\n",
      "Mês Descrição                     1205 non-null object\n",
      "Sexo                              1205 non-null object\n",
      "Turno                             1205 non-null object\n",
      "Tipo Acidente                     1205 non-null object\n",
      "SubTipo do Acidente               1205 non-null object\n",
      "Tipo Veiculo                      1205 non-null object\n",
      "Faixa Etária                      1205 non-null object\n",
      "Idade                             1205 non-null object\n",
      "Tipo Vítima                       1205 non-null object\n",
      "Tipo Local do Acidente            1205 non-null object\n",
      "Dia Semana                        1205 non-null object\n",
      "Tipo de Via                       1205 non-null object\n",
      "Rua / Rodovia                     1205 non-null object\n",
      "Outro Veículo Envolvido           1205 non-null object\n",
      "Tempo entre Acidente e o Óbito    1205 non-null object\n",
      "dtypes: int64(2), object(17)\n",
      "memory usage: 178.9+ KB\n"
     ]
    }
   ],
   "source": [
    "base_2019.info()"
   ]
  },
  {
   "cell_type": "markdown",
   "metadata": {},
   "source": [
    "### Colunas com valores nulos\n",
    "- Sexo\n",
    "\n",
    "(poucos dados nulos - moda)\n",
    "- SubTipo do Acidente\n",
    "\n",
    "(muitos dados nulos - indicar como 'NAO HA')\n",
    "- Tipo Local do Acidente\n",
    "\n",
    "(alguns dados - moda)\n",
    "\n",
    "- Dia Semana\n",
    "\n",
    "(poucos dados nulos - moda)\n",
    "- Outro Veículo Envolvido\n",
    "\n",
    "(2015 e 2016 esse dado quase não foi preenchido, não tem como comparar. 2017 2018 e 2019 tem dados. substituir com a moda - de todos eles a moda = 'AUTOMOVEL')\n",
    "- Tempo entre Acidente e o Óbito \n",
    "\n",
    "(poucos dados nulos - moda)"
   ]
  },
  {
   "cell_type": "code",
   "execution_count": 245,
   "metadata": {},
   "outputs": [
    {
     "data": {
      "text/plain": [
       "'AUTOMOVEL'"
      ]
     },
     "execution_count": 245,
     "metadata": {},
     "output_type": "execute_result"
    }
   ],
   "source": [
    "base_2015['Outro Veículo Envolvido'].value_counts()\n",
    "\n",
    "base_2018['Outro Veículo Envolvido'].mode()[0]"
   ]
  },
  {
   "cell_type": "code",
   "execution_count": 251,
   "metadata": {},
   "outputs": [
    {
     "data": {
      "text/plain": [
       "MASCULINO         5015\n",
       "FEMININO          1092\n",
       "NAO DISPONIVEL      14\n",
       "Name: Sexo, dtype: int64"
      ]
     },
     "execution_count": 251,
     "metadata": {},
     "output_type": "execute_result"
    }
   ],
   "source": [
    "base_2015['Sexo'].value_counts()"
   ]
  },
  {
   "cell_type": "code",
   "execution_count": 252,
   "metadata": {
    "scrolled": true
   },
   "outputs": [
    {
     "data": {
      "text/plain": [
       "PUBLICO           5878\n",
       "PRIVADO             54\n",
       "NAO DISPONIVEL      37\n",
       "Name: Tipo Local do Acidente, dtype: int64"
      ]
     },
     "execution_count": 252,
     "metadata": {},
     "output_type": "execute_result"
    }
   ],
   "source": [
    "base_2015['Tipo Local do Acidente'].value_counts()"
   ]
  },
  {
   "cell_type": "code",
   "execution_count": 253,
   "metadata": {},
   "outputs": [
    {
     "data": {
      "text/plain": [
       "Mesmo dia          882\n",
       "Até 30 dias        103\n",
       "Até 7 dias         102\n",
       "Dia anterior        63\n",
       "Mais de 30 dias     55\n",
       "Name: Tempo entre Acidente e o Óbito, dtype: int64"
      ]
     },
     "execution_count": 253,
     "metadata": {},
     "output_type": "execute_result"
    }
   ],
   "source": [
    "base_2019['Tempo entre Acidente e o Óbito'].value_counts()"
   ]
  },
  {
   "cell_type": "code",
   "execution_count": 254,
   "metadata": {},
   "outputs": [],
   "source": [
    "#______________________________RODAR\n",
    "# Completando valores Nan\n",
    "\n",
    "for dataset in data:\n",
    "    #completar com a moda\n",
    "    dataset['Sexo'].fillna(dataset['Sexo'].mode()[0], inplace = True)\n",
    "    dataset['Tipo Local do Acidente'].fillna(dataset['Tipo Local do Acidente'].mode()[0], inplace = True)\n",
    "    dataset['Dia Semana'].fillna(dataset['Dia Semana'].mode()[0], inplace = True)\n",
    "    dataset['Outro Veículo Envolvido'].fillna(dataset['Outro Veículo Envolvido'].mode()[0], inplace = True)\n",
    "    dataset['Tempo entre Acidente e o Óbito'].fillna(dataset['Tempo entre Acidente e o Óbito'].mode()[0], inplace = True)\n",
    "    \n",
    "    #completar com NAO HA\n",
    "    dataset['SubTipo do Acidente'].fillna('NAO HA', inplace=True)\n",
    "    \n",
    "  \n",
    "    "
   ]
  },
  {
   "cell_type": "code",
   "execution_count": 309,
   "metadata": {},
   "outputs": [
    {
     "data": {
      "text/plain": [
       "Cidade Considerada                   0\n",
       "Região Administrativa                0\n",
       "Ano Óbito                            0\n",
       "Mês Óbito                            0\n",
       "Mês Descrição                        0\n",
       "Sexo                                 0\n",
       "Turno                                0\n",
       "Tipo Acidente                        0\n",
       "SubTipo do Acidente                  0\n",
       "Tipo Veiculo                         0\n",
       "Faixa Etária                         0\n",
       "Idade                                0\n",
       "Tipo Vítima                          0\n",
       "Tipo Local do Acidente               0\n",
       "Dia Semana                        2026\n",
       "Tipo de Via                          0\n",
       "Rua / Rodovia                        0\n",
       "Outro Veículo Envolvido              0\n",
       "Tempo entre Acidente e o Óbito       0\n",
       "dtype: int64"
      ]
     },
     "execution_count": 309,
     "metadata": {},
     "output_type": "execute_result"
    }
   ],
   "source": [
    "base_2017.isnull().sum()"
   ]
  },
  {
   "cell_type": "code",
   "execution_count": 310,
   "metadata": {},
   "outputs": [
    {
     "data": {
      "text/plain": [
       "Cidade Considerada                0\n",
       "Região Administrativa             0\n",
       "Ano Óbito                         0\n",
       "Mês Óbito                         0\n",
       "Mês Descrição                     0\n",
       "Sexo                              0\n",
       "Turno                             0\n",
       "Tipo Acidente                     0\n",
       "SubTipo do Acidente               0\n",
       "Tipo Veiculo                      0\n",
       "Faixa Etária                      0\n",
       "Idade                             0\n",
       "Tipo Vítima                       0\n",
       "Tipo Local do Acidente            0\n",
       "Dia Semana                        0\n",
       "Tipo de Via                       0\n",
       "Rua / Rodovia                     0\n",
       "Outro Veículo Envolvido           0\n",
       "Tempo entre Acidente e o Óbito    0\n",
       "dtype: int64"
      ]
     },
     "execution_count": 310,
     "metadata": {},
     "output_type": "execute_result"
    }
   ],
   "source": [
    "#______________________________RODAR\n",
    "base_2017['Dia Semana'].fillna(base_2017['Dia Semana'].mode()[0], inplace = True)\n",
    "\n",
    "base_2017.isnull().sum()"
   ]
  },
  {
   "cell_type": "markdown",
   "metadata": {},
   "source": [
    "### Colunas com valores estranhos ou sinônimos\n",
    "- Cidades Consideradas:\n",
    "\n",
    "2015 (530) / 2016 (451) / 2017 (520) / 2018 (528) / 2019 (304) - ano incompleto\n",
    "\n",
    "Como SP tem 645 municípios, os dados fazem sentido\n",
    "- Região Administrativa:\n",
    "16 no total\n",
    "\n",
    "2017 e 2018 - Metropolitana de S??o Paulo, São Jos?? do Rio Preto e S??o José dos Campos errada grafia\n",
    "- Mês Óbito\n",
    "2016 não tem dados de todos os meses\n",
    "\n",
    "- Sexo\n",
    "eliminar não disponível - representa menos de 0,50% do total\n"
   ]
  },
  {
   "cell_type": "code",
   "execution_count": 261,
   "metadata": {},
   "outputs": [
    {
     "data": {
      "text/plain": [
       "SAO PAULO                  208\n",
       "CAMPINAS                    34\n",
       "SOROCABA                    26\n",
       "GUARULHOS                   25\n",
       "MOGI DAS CRUZES             23\n",
       "SAO BERNARDO DO CAMPO       18\n",
       "JUNDIAI                     16\n",
       "OSASCO                      14\n",
       "PRAIA GRANDE                14\n",
       "RIBEIRAO PRETO              14\n",
       "SAO JOSE DO RIO PRETO       14\n",
       "SAO VICENTE                 13\n",
       "SUZANO                      13\n",
       "LIMEIRA                     11\n",
       "ITU                         10\n",
       "ATIBAIA                     10\n",
       "ITANHAEM                     9\n",
       "PIRACICABA                   9\n",
       "FRANCA                       9\n",
       "COTIA                        9\n",
       "GUARUJA                      9\n",
       "SUMARE                       9\n",
       "SAO JOSE DOS CAMPOS          9\n",
       "BAURU                        9\n",
       "BARUERI                      9\n",
       "CUBATAO                      9\n",
       "MAUA                         8\n",
       "TAUBATE                      8\n",
       "CARAPICUIBA                  8\n",
       "BRAGANCA PAULISTA            8\n",
       "                          ... \n",
       "MIRANTE DO PARANAPANEMA      1\n",
       "RIBEIRAO GRANDE              1\n",
       "BURITAMA                     1\n",
       "SAO MIGUEL ARCANJO           1\n",
       "AVANHANDAVA                  1\n",
       "SANTA BRANCA                 1\n",
       "COSMOPOLIS                   1\n",
       "ONDA VERDE                   1\n",
       "JARINU                       1\n",
       "ITAPUI                       1\n",
       "RIBEIRA                      1\n",
       "PALMITAL                     1\n",
       "AGUAI                        1\n",
       "AMERICO BRASILIENSE          1\n",
       "URANIA                       1\n",
       "OSVALDO CRUZ                 1\n",
       "ARACARIGUAMA                 1\n",
       "NEVES PAULISTA               1\n",
       "PARDINHO                     1\n",
       "BRODOWSKI                    1\n",
       "SANTA CRUZ DA CONCEICAO      1\n",
       "PROMISSAO                    1\n",
       "GUARIBA                      1\n",
       "GUAPIARA                     1\n",
       "IPEUNA                       1\n",
       "PEDREIRA                     1\n",
       "CAIABU                       1\n",
       "MIRACATU                     1\n",
       "LUCELIA                      1\n",
       "ORLANDIA                     1\n",
       "Name: Cidade Considerada, Length: 304, dtype: int64"
      ]
     },
     "execution_count": 261,
     "metadata": {},
     "output_type": "execute_result"
    }
   ],
   "source": [
    "base_2019['Cidade Considerada'].value_counts()"
   ]
  },
  {
   "cell_type": "code",
   "execution_count": 267,
   "metadata": {},
   "outputs": [
    {
     "data": {
      "text/plain": [
       "array(['Sorocaba', 'Campinas', 'São José do Rio Preto',\n",
       "       'São José dos Campos', 'Itapeva', 'Araçatuba', 'Central',\n",
       "       'Metropolitana de São Paulo', 'Franca', 'Bauru', 'Barretos',\n",
       "       'Marília', 'Baixada Santista', 'Presidente Prudente',\n",
       "       'Ribeirão Preto', 'Registro'], dtype=object)"
      ]
     },
     "execution_count": 267,
     "metadata": {},
     "output_type": "execute_result"
    }
   ],
   "source": [
    "base_2015['Região Administrativa'].unique()\n",
    "# base_2016['Região Administrativa'].unique()\n",
    "# base_2017['Região Administrativa'].unique()\n",
    "# base_2018['Região Administrativa'].unique()\n",
    "# base_2019['Região Administrativa'].unique()\n"
   ]
  },
  {
   "cell_type": "code",
   "execution_count": 263,
   "metadata": {},
   "outputs": [],
   "source": [
    "#______________________________________RODAR\n",
    "# Corrigindo dados errados\n",
    "\n",
    "for dataset in data:\n",
    "    #corrigindo grafia errada\n",
    "    dataset['Região Administrativa'] = dataset['Região Administrativa'].replace(['Metropolitana de S??o Paulo'],\n",
    "                                                                                'Metropolitana de São Paulo')\n",
    "    dataset['Região Administrativa'] = dataset['Região Administrativa'].replace(['São Jos?? do Rio Preto'],\n",
    "                                                                                'São José do Rio Preto')\n",
    "    dataset['Região Administrativa'] = dataset['Região Administrativa'].replace(['S??o José dos Campos'],\n",
    "                                                                                'São José dos Campos')\n",
    "    \n",
    "           "
   ]
  },
  {
   "cell_type": "code",
   "execution_count": 268,
   "metadata": {},
   "outputs": [
    {
     "data": {
      "text/plain": [
       "array([2019], dtype=int64)"
      ]
     },
     "execution_count": 268,
     "metadata": {},
     "output_type": "execute_result"
    }
   ],
   "source": [
    "# base_2015['Ano Óbito'].unique()\n",
    "# base_2016['Ano Óbito'].unique()\n",
    "# base_2017['Ano Óbito'].unique()\n",
    "# base_2018['Ano Óbito'].unique()\n",
    "base_2019['Ano Óbito'].unique()"
   ]
  },
  {
   "cell_type": "code",
   "execution_count": 269,
   "metadata": {},
   "outputs": [
    {
     "data": {
      "text/plain": [
       "array([ 9,  8,  7,  6,  5,  4,  3,  2, 12, 11, 10,  1], dtype=int64)"
      ]
     },
     "execution_count": 269,
     "metadata": {},
     "output_type": "execute_result"
    }
   ],
   "source": [
    "base_2015['Mês Óbito'].unique()\n",
    "# base_2016['Mês Óbito'].unique()\n",
    "# base_2017['Mês Óbito'].unique()\n",
    "# base_2018['Mês Óbito'].unique()\n",
    "# base_2019['Mês Óbito'].unique()\n"
   ]
  },
  {
   "cell_type": "code",
   "execution_count": 270,
   "metadata": {},
   "outputs": [
    {
     "data": {
      "text/plain": [
       "array(['MARÇO', 'FEVEREIRO', 'JANEIRO'], dtype=object)"
      ]
     },
     "execution_count": 270,
     "metadata": {},
     "output_type": "execute_result"
    }
   ],
   "source": [
    "# base_2015['Mês Descrição'].value_counts()\n",
    "# base_2016['Mês Descrição'].unique()\n",
    "# base_2017['Mês Descrição'].unique()\n",
    "# base_2018['Mês Descrição'].unique()\n",
    "base_2019['Mês Descrição'].unique()\n"
   ]
  },
  {
   "cell_type": "code",
   "execution_count": 273,
   "metadata": {},
   "outputs": [
    {
     "data": {
      "text/plain": [
       "MASCULINO    5362\n",
       "FEMININO     1092\n",
       "Name: Sexo, dtype: int64"
      ]
     },
     "execution_count": 273,
     "metadata": {},
     "output_type": "execute_result"
    }
   ],
   "source": [
    "base_2015['Sexo'].value_counts()\n",
    "# base_2016['Sexo'].value_counts()\n",
    "# base_2017['Sexo'].value_counts()\n",
    "# base_2018['Sexo'].value_counts()\n",
    "# base_2019['Sexo'].value_counts()\n"
   ]
  },
  {
   "cell_type": "code",
   "execution_count": 272,
   "metadata": {},
   "outputs": [],
   "source": [
    "#_______________________________RODAR\n",
    "#eliminando linhas com sexo 'NAO DISPONIVEL'\n",
    "base_2015 = base_2015[~base_2015['Sexo'].str.contains('NAO DISPONIVEL')]\n",
    "base_2016 = base_2016[~base_2016['Sexo'].str.contains('NAO DISPONIVEL')]\n",
    "base_2017 = base_2017[~base_2017['Sexo'].str.contains('NAO DISPONIVEL')]\n",
    "base_2018 = base_2018[~base_2018['Sexo'].str.contains('NAO DISPONIVEL')]\n",
    "base_2019 = base_2019[~base_2019['Sexo'].str.contains('NAO DISPONIVEL')]"
   ]
  },
  {
   "cell_type": "code",
   "execution_count": 274,
   "metadata": {},
   "outputs": [
    {
     "data": {
      "text/plain": [
       "NOITE             1913\n",
       "MADRUGADA         1148\n",
       "TARDE             1131\n",
       "MANHA             1003\n",
       "NAO DISPONIVEL     441\n",
       "Name: Turno, dtype: int64"
      ]
     },
     "execution_count": 274,
     "metadata": {},
     "output_type": "execute_result"
    }
   ],
   "source": [
    "# Existem muitos valores 'NAO DISPONÍVEL' - O que fazer? - moda? eliminar? manter?\n",
    "base_2017['Turno'].value_counts()"
   ]
  },
  {
   "cell_type": "code",
   "execution_count": 275,
   "metadata": {},
   "outputs": [
    {
     "data": {
      "text/plain": [
       "COLISAO           474\n",
       "ATROPELAMENTO     299\n",
       "CHOQUE            220\n",
       "OUTROS            174\n",
       "NAO DISPONIVEL     38\n",
       "Name: Tipo Acidente, dtype: int64"
      ]
     },
     "execution_count": 275,
     "metadata": {},
     "output_type": "execute_result"
    }
   ],
   "source": [
    "# Existem muitos valores 'NAO DISPONÍVEL' e 'OUTROS' - O que fazer? - moda? eliminar? manter?\n",
    "base_2019['Tipo Acidente'].value_counts()"
   ]
  },
  {
   "cell_type": "code",
   "execution_count": 276,
   "metadata": {
    "scrolled": true
   },
   "outputs": [
    {
     "data": {
      "text/plain": [
       "NAO DISPONIVEL                           1215\n",
       "FRONTAL                                   715\n",
       "CRUZANDO A VIA                            664\n",
       "TRASEIRA                                  425\n",
       "LATERAL                                   335\n",
       "TOMBAMENTO VEÍCULO DE 2 RODAS             294\n",
       "POSTE                                     228\n",
       "CAPOTAMENTO                               194\n",
       "TRANSVERSAL                               192\n",
       "ANDANDO NA VIA / ACOSTAMENTO              188\n",
       "MURO/PAREDE/TALUDE                        146\n",
       "ÁRVORE                                    146\n",
       "DEFENSA / BARREIRA                        137\n",
       "VEÍCULO ESTACIONADO                       113\n",
       "OUTROS                                     71\n",
       "CONDUTOR/PASSAGEIROS FORA DO VEÍCULO       71\n",
       "QUEDA (ÁGUA. BARRANCO. PONTE)              63\n",
       "NA CALÇADA                                 55\n",
       "MEIO-FIO/CALÇAMENTO/DRENAGEM               46\n",
       "TOMBAMENTO VEÍCULO DE MAIS DE 2 RODAS      37\n",
       "ANIMAL                                     32\n",
       "ENGAVETAMENTO                              21\n",
       "PLACA DE SINALIZAÇÃO                       16\n",
       "OBJETO NA PISTA                            14\n",
       "SUBMERSÃO                                  14\n",
       "RABEIRA - APOIO EM VEÍCULO                  7\n",
       "OBJETO LANÇADO SOBRE O VEÍCULO              5\n",
       "INCÊDIO / EXPLOSÃO                          4\n",
       "Name: SubTipo do Acidente, dtype: int64"
      ]
     },
     "execution_count": 276,
     "metadata": {},
     "output_type": "execute_result"
    }
   ],
   "source": [
    "#_____________________________________________RODAR\n",
    "#TOMBAMENTO VE??CULO DE 2 RODAS por TOMBAMENTO VEÍCULO DE 2 RODAS em 2018\n",
    "\n",
    "base_2018['SubTipo do Acidente'] = base_2018['SubTipo do Acidente'].replace(['TOMBAMENTO VE??CULO DE 2 RODAS'],\n",
    "                                                                                'TOMBAMENTO VEÍCULO DE 2 RODAS')\n",
    "base_2018['SubTipo do Acidente'].value_counts()\n",
    "\n"
   ]
  },
  {
   "cell_type": "code",
   "execution_count": 277,
   "metadata": {},
   "outputs": [
    {
     "data": {
      "text/plain": [
       "MOTOCICLETA       439\n",
       "AUTOMOVEL         310\n",
       "PEDESTRE          286\n",
       "BICICLETA          93\n",
       "CAMINHAO           45\n",
       "ONIBUS             15\n",
       "NAO DISPONIVEL     13\n",
       "OUTROS              4\n",
       "Name: Tipo Veiculo, dtype: int64"
      ]
     },
     "execution_count": 277,
     "metadata": {},
     "output_type": "execute_result"
    }
   ],
   "source": [
    "# Existem muitos valores 'NAO DISPONÍVEL' e 'OUTROS' - O que fazer? - moda? eliminar? manter?\n",
    "base_2019['Tipo Veiculo'].value_counts()\n"
   ]
  },
  {
   "cell_type": "code",
   "execution_count": 278,
   "metadata": {},
   "outputs": [],
   "source": [
    "#______________________________RODAR\n",
    "#2019 (44) 2018 (287) 2017 (216) 2016(172) 2015(390) - com dados 'NAO DISPONÍVEL' máximo de 6% em 2015\n",
    "#Substituir pela mediana\n",
    "\n",
    "# base_2015['Idade'].value_counts()\n",
    "# base_2015.info()\n",
    "\n",
    "for dataset in data:\n",
    "    #substituir 'NAO DISPONÍVEL' por NaN\n",
    "    dataset['Idade'] = dataset['Idade'].replace(['NAO DISPONÍVEL'], 'NAO DISPONIVEL')\n",
    "    #não funcionou!!   \n",
    "#     dataset['Idade'] = dataset['Idade'].replace(['NAO DISPONIVEL'], np.nan)\n",
    "    \n"
   ]
  },
  {
   "cell_type": "code",
   "execution_count": 279,
   "metadata": {},
   "outputs": [],
   "source": [
    "#___________________________RODAR\n",
    "\n",
    "base_2015['Idade'] = base_2015['Idade'].replace(['NAO DISPONIVEL'], np.nan)\n",
    "base_2016['Idade'] = base_2016['Idade'].replace(['NAO DISPONIVEL'], np.nan)\n",
    "base_2017['Idade'] = base_2017['Idade'].replace(['NAO DISPONIVEL'], np.nan)\n",
    "base_2018['Idade'] = base_2018['Idade'].replace(['NAO DISPONIVEL'], np.nan)\n",
    "base_2019['Idade'] = base_2019['Idade'].replace(['NAO DISPONIVEL'], np.nan)"
   ]
  },
  {
   "cell_type": "code",
   "execution_count": null,
   "metadata": {},
   "outputs": [],
   "source": [
    "#____________________________________RODAR\n",
    "#substituir valres nulos pela mediana\n",
    "base_2015['Idade'].fillna(base_2015['Idade'].median(), inplace = True)\n",
    "base_2016['Idade'].fillna(base_2016['Idade'].median(), inplace = True)\n",
    "base_2017['Idade'].fillna(base_2017['Idade'].median(), inplace = True)\n",
    "base_2018['Idade'].fillna(base_2018['Idade'].median(), inplace = True)\n",
    "base_2019['Idade'].fillna(base_2019['Idade'].median(), inplace = True)\n",
    "\n",
    "# teste = base_2019.copy()\n",
    "# teste['Idade'] = teste['Idade'].replace(['NAO DISPONIVEL'], np.nan)\n",
    "# teste.info()"
   ]
  },
  {
   "cell_type": "code",
   "execution_count": 286,
   "metadata": {},
   "outputs": [
    {
     "data": {
      "text/plain": [
       "array(['68', '69', '49', '28', '7', '62', '24', '30', '23', '33', '19',\n",
       "       '59', '34', '45', '32', '46', '18', '25', '61', '58', '70', '57',\n",
       "       '48', '50', '31', '40', '20', '52', '3', '15', '44', '54', '42',\n",
       "       '75', '29', '55', '21', '27', '1', '41', '63', '43', '82', 38.0,\n",
       "       '85', '17', '38', '2', '26', '35', '47', '22', '71', '16', '64',\n",
       "       '51', '67', '36', '77', '98', '81', '78', '66', '37', '14', '80',\n",
       "       '79', '65', '39', '60', '9', '84', '53', '76', '73', '72', '74',\n",
       "       '88', '13', '12', '86', '56', '83', '4', '87', '11', '89', '10',\n",
       "       '92', '5', '0', '8', '94', '91', '90', '93', '6', '115'],\n",
       "      dtype=object)"
      ]
     },
     "execution_count": 286,
     "metadata": {},
     "output_type": "execute_result"
    }
   ],
   "source": [
    "base_2015['Idade'].unique()\n",
    "# base_2016.info()"
   ]
  },
  {
   "cell_type": "code",
   "execution_count": 287,
   "metadata": {},
   "outputs": [
    {
     "data": {
      "text/plain": [
       "CONDUTOR          698\n",
       "PEDESTRE          286\n",
       "PASSAGEIRO        189\n",
       "NAO DISPONIVEL     32\n",
       "Name: Tipo Vítima, dtype: int64"
      ]
     },
     "execution_count": 287,
     "metadata": {},
     "output_type": "execute_result"
    }
   ],
   "source": [
    "# Existem muitos valores 'NAO DISPONÍVEL' e 'OUTROS' - O que fazer? - moda? eliminar? manter?\n",
    "base_2019['Tipo Vítima'].value_counts()"
   ]
  },
  {
   "cell_type": "code",
   "execution_count": 288,
   "metadata": {},
   "outputs": [
    {
     "data": {
      "text/plain": [
       "PUBLICO           3572\n",
       "PRIVADO             49\n",
       "NAO DISPONIVEL       7\n",
       "Name: Tipo Local do Acidente, dtype: int64"
      ]
     },
     "execution_count": 288,
     "metadata": {},
     "output_type": "execute_result"
    }
   ],
   "source": [
    "#_________________________________RODAR\n",
    "#2019 (45) 2018(286) 2017(594) 2016(7) 2015(35)\n",
    "# Existem muitos valores 'NAO DISPONÍVEL' e 'OUTROS' - O que fazer? - moda? eliminar? manter?\n",
    "\n",
    "#2016 - substituir privado por PRIVADO\n",
    "base_2016['Tipo Local do Acidente'] = base_2016['Tipo Local do Acidente'].replace(['Privado'], 'PRIVADO')\n",
    "\n",
    "base_2016['Tipo Local do Acidente'].value_counts()\n",
    "\n"
   ]
  },
  {
   "cell_type": "code",
   "execution_count": 289,
   "metadata": {},
   "outputs": [
    {
     "data": {
      "text/plain": [
       "DOMINGO    729\n",
       "SÁBADO     687\n",
       "SEXTA      506\n",
       "QUINTA     454\n",
       "SEGUNDA    441\n",
       "QUARTA     419\n",
       "TERÇA      374\n",
       "Name: Dia Semana, dtype: int64"
      ]
     },
     "execution_count": 289,
     "metadata": {},
     "output_type": "execute_result"
    }
   ],
   "source": [
    "#_________________________________RODAR\n",
    "#substituir em 2017 - S??BADO por SÁBADO\n",
    "base_2017['Dia Semana'] = base_2016['Dia Semana'].replace(['S??BADO'], 'SÁBADO')\n",
    "\n",
    "base_2017['Dia Semana'].value_counts()\n"
   ]
  },
  {
   "cell_type": "markdown",
   "metadata": {},
   "source": [
    "-----------------------------------\n",
    "### Fiz uma cópia dos df que foram frmatados até aqui"
   ]
  },
  {
   "cell_type": "code",
   "execution_count": 311,
   "metadata": {},
   "outputs": [],
   "source": [
    "#___________________________________________RODAR\n",
    "#FAZER UMA CÓPIA dos df para não ter que voltar tudo\n",
    "base_2015_1 = base_2015.copy()\n",
    "base_2016_1 = base_2016.copy()\n",
    "base_2017_1 = base_2017.copy()\n",
    "base_2018_1 = base_2018.copy()\n",
    "base_2019_1 = base_2019.copy()\n",
    "\n",
    "data_1 = [base_2015_1, base_2016_1, base_2017_1, base_2018_1, base_2019_1]"
   ]
  },
  {
   "cell_type": "code",
   "execution_count": 291,
   "metadata": {},
   "outputs": [
    {
     "data": {
      "text/plain": [
       "Vias Municipais    3976\n",
       "Rodovias           2320\n",
       "NAO DISPONIVEL      158\n",
       "Name: Tipo de Via, dtype: int64"
      ]
     },
     "execution_count": 291,
     "metadata": {},
     "output_type": "execute_result"
    }
   ],
   "source": [
    "#2015(158) 2016(69) 2017(114) 2018(359) 2019(58)\n",
    "\n",
    "# base_2015_1.info()\n",
    "base_2015_1['Tipo de Via'].value_counts()\n"
   ]
  },
  {
   "cell_type": "code",
   "execution_count": 371,
   "metadata": {},
   "outputs": [
    {
     "data": {
      "text/plain": [
       "array(['AVENIDA SAO JERONIMO', 'SP 300', 'RUA LONDRES',\n",
       "       'VICINAL JOSE RODRIGUES CELESTINO', 'ESTRADA DERRADEIRO POUSO',\n",
       "       'SP 250', 'AVENIDA CAFE FILHO', 'SPA 003/245', 'RUA NOVE DE JULHO',\n",
       "       'ALAMEDA PAULISTA', 'AVENIDA HEITOR SOUZA PINHEIRO', 'SPA 074/255',\n",
       "       'AVENIDA MELVIN JONES', 'BR 116', 'SP 270', 'SP 333',\n",
       "       'NAO DISPONIVEL', 'BR 381', 'ESTRADA JUCA SANCHES', 'SP 008',\n",
       "       'RUA SALVADOR DE ALICE', 'AVENIDA QUINZE DE NOVEMBRO', 'SP 326',\n",
       "       'SP 291', 'SP 280', 'AVENIDA ANIBAL CORREA', 'RUA ARARAQUARA',\n",
       "       'SP 457', 'SP 351', 'AVENIDA NACOES UNIDAS',\n",
       "       'RUA QUINZE DE NOVEMBRO', 'SP 225',\n",
       "       'AVENIDA COMENDADOR DANIEL PACIFICO', 'RUA SAO PAULO',\n",
       "       'AVENIDA ANCHIETA', 'BR 101', 'SP 055', 'SP 461', 'SPA 018/461',\n",
       "       'SP 098', 'SP 255', 'AVENIDA DANTE TREVISANE', 'SP 095',\n",
       "       'AVENIDA DOUTOR JOSE ADRIANO MARREI JUNIO', 'SP 063',\n",
       "       'RUA MARIA FLORINDA', 'SP 103', 'SP 058',\n",
       "       'RUA CORONEL JOSE JOAQUIM FERREIRA', 'SP 073',\n",
       "       'RUA SERGIO AZEVEDO PENA CHAVES', 'SP 330', 'RUA ANTONIO MARCHILI',\n",
       "       'SP 332', 'ESTRADA SOLAR DAS ANDORINHAS',\n",
       "       'AVENIDA JOSE DE SOUZA CAMPOS', 'AVENIDA BENEDITO DE CAMPOS',\n",
       "       'SP 075', 'SP 123', 'ESTRADA CANDIDO MOTA - PORTO ALMEIDA',\n",
       "       'SP 258', 'SP 101', 'SP 099', 'AVENIDA MARGINAL DO RIBEIRAO',\n",
       "       'AVENIDA COMENDADOR DANTE CARRARO', 'RUA MANAUS',\n",
       "       'AVENIDA PALMARES', 'SPA 022/245', 'VICINAL NICOLA BARBIERI',\n",
       "       'SP 310', 'AVENIDA ROQUE CELESTINO PIRES', 'SP 052', 'SP 160',\n",
       "       'AVENIDA PRESIDENTE ROSELVELT', 'SP 021', 'ESTRADA SAO CRISTOVAO',\n",
       "       'RUA NORBERTO JOSE MARTINS', 'SP 334', 'AVENIDA JOSE DA SILVA',\n",
       "       'VICINAL TANCREDO NEVES', 'RUA JOSE BONIFACIO', 'RUA BRASILIA',\n",
       "       'AVENIDA TONICO LENCI', 'RUA A', 'ESTRADA MUNICIPAL DOS MOTTAS',\n",
       "       'SPI 328/326', 'RUA MANOEL OTERO RODRIGUES', 'AVENIDA D. PEDRO I',\n",
       "       'SP 019', 'RUA JOAQUIM CERVEIRA PIRES',\n",
       "       'AVENIDA TARSILA DO AMARAL', 'SP 304', 'SP 065', 'SP 222',\n",
       "       'AVENIDA MARIA GERALDA DA CONCEICAO', 'RUA MIGUEL DOMINGUES',\n",
       "       'RUA MURTA DO CAMPO', 'RUA ARMANDO DELAI', 'SPI 083/191',\n",
       "       'AVENIDA PERUIBE', 'ESTRADA CEL.JOAQUIM BRANCO', 'SP 234',\n",
       "       'RUA FERMINO B GONCALVES',\n",
       "       'AVENIDA PEDRO DA CUNHA ALBUQUERQUE LOPES',\n",
       "       'ESTRADA PINHEIRINHO SUZANO', 'RUA CAMBARA',\n",
       "       'ESTRADA BRASILIO FRANCISCON', 'RUA CAMPOS SALES',\n",
       "       'RUA AVENIDA BRASILIA', 'AVENIDA DA FELICIDADE', 'SP 385',\n",
       "       'RUA BERNARDINO DE CAMPOS', 'SP 070', 'RUA VENCESLAU BRAS',\n",
       "       'SP 340', 'MARGINAL IZAURA BERTHO VENTURINI', 'SP 463',\n",
       "       'RUA DOS IMIGRANTES', 'SP 425', 'VICINAL MANOEL GUAPO', 'SP 348',\n",
       "       'SP 360', 'AVENIDA ANTONIO FREDERICO OZANAN', 'SPA 067/360',\n",
       "       'AVENIDA PREFEITO LUIS LATORRE', 'SP 165', 'RUA LUIS PACOLA',\n",
       "       'RUA EVARISTO OLIVATO FILHO', 'AVENIDA CARLOS KUNTZ BUSCH',\n",
       "       'AVENIDA CONEGO MANOEL ALVES', 'ESTRADA MUNICIPAL LIM-10',\n",
       "       'BR 459', 'AVENIDA BRASIL', 'SP 253', 'RUA RUI BARBOSA',\n",
       "       'ESTRADA SAO MARCOS', 'MARIO COVAS', 'SP 294',\n",
       "       'RUA LIBERALLI POLIZEL', 'AVENIDA JOSE ALVES DE FREITAS', 'SP 563',\n",
       "       'SP 088', 'SP 066', 'SP 167', 'AVENIDAS ADIB CHAIB',\n",
       "       'RUA QUINZE DE AGOSTO', 'SP 322', 'RUA INACIO FRANCISCO',\n",
       "       'VICINAL FLORINDO RODRIGUES MARTINEZ', 'SP 595', 'BR 153',\n",
       "       'VICINAL SALATIEL DA COSTA PEREIRA', 'RUA QUATORZE',\n",
       "       'RUA DOUTOR WASHIGNTON PEDRO LANZELOTI',\n",
       "       'AVENIDA DOUTOR ALBERTO JACKSON BYINGTON',\n",
       "       'AVENIDA PRESIDENTE MEDICI', 'AVENIDA PREFEITO HIRANT SANAZAR',\n",
       "       'AVENIDA MAX WIRTH', 'RUA PADRE RUI CANDIDO DA SILVA', 'SP 284',\n",
       "       'SP 226', 'ESTRADA DO LEITE', 'AVENIDA JONAS ALVES DE MELO',\n",
       "       'AVENIDA LUCIANO DE BONA', 'SP 079',\n",
       "       'AVENIDA ALFERES MANUEL RIBEIRO DO AMARAL',\n",
       "       'ALAMEDA DAS GREVILEAS', 'SP 147', 'RUA SANTA CRUZ',\n",
       "       'VICINAL PIRACICABA ANHUMAS', 'VICINAL ANGELO GRISANI', 'SP 328',\n",
       "       'AVENIDA PRESIDENTE KENEDY', 'SPA 291/055',\n",
       "       'RUA PRESIDENTE CASTELO BRANCO', 'RUA PAULO BONGIOVANI',\n",
       "       'RUA PRIMAVERA', 'RUA JAPAO', 'RUA JOSE GENESIO FERREIRA',\n",
       "       'AVENIDA SANTA CLARA', 'RUA FAGUNDES VARELA',\n",
       "       'AVENIDA ANTONIO E HELENA ZERRENER', 'TRAVESSA LAUREANO',\n",
       "       'AVENIDA PORTUGAL', 'AVENIDA DO CAFE', 'AVENIDA DA SAUDADE',\n",
       "       'RUA M 20', 'SP 127', 'RUA 4', 'SP 264', 'SPA 198/330',\n",
       "       'AVENIDA JOAO VITTE C/ RUA 2-F', 'SP 056',\n",
       "       'AVENIDA PADRE PIO CORSO', 'RUA GIOVANNI BATTISTA PIRELLI',\n",
       "       'RUA ORATORIO', 'RUA CORONEL SEABRA', 'VIADUTO PEDRO DEL ANTONIA',\n",
       "       'AVENIDA DOS ESTADOS', 'RUA CAETANO ZANELA', 'AVENIDA DO TABOAO',\n",
       "       'RUA HEINRICH NORDHOF', 'RUA BENFICA', 'AVENIDA GUIDO ALIBERTI',\n",
       "       'VICINAL WILSON ROBERTO JANDOTI', 'AVENIDA ERNANI PIRES DOMINGUES',\n",
       "       'VICINAL ALCIDES AUGUSTO AVILA', 'AVENIDA JOAO RODOLFO CASTELLI',\n",
       "       'RUA DOS PERIQUITOS', 'RUA JOAO COSMO DOS SANTOS',\n",
       "       'RUA MURILO FURTADO', 'AVENIDA DO CURSINO',\n",
       "       'RUA BERNARDINO FANGANIELLO', 'SPA 015/330', 'AVENIDA JAGUARE',\n",
       "       'PRACA JACOMO ZANELA', 'AVENIDA MORUMBI',\n",
       "       'RUA COMENDADOR MIGUEL CALFAT', 'AVENIDA DOS BANDEIRANTES',\n",
       "       'AVENIDA DO IMPERADOR', 'RUA WERNER SIEMENS',\n",
       "       'AVENIDA DOUTOR ASSIS RIBEIRO', 'RUA DOUTOR ZUQUIM',\n",
       "       'RUA DOUTOR VIRGILIO DE CARVALHO PINTO',\n",
       "       'AVENIDA ENGENHEIRO BILLINGS', 'AVENIDA VINTE E TRES DE MAIO',\n",
       "       'AVENIDA ARICANDUVA', 'SP 015', 'RUA SAO RAIMUNDO',\n",
       "       'AVENIDA DO POETA', 'AVENIDA DIOGO DA COSTA TAVARES',\n",
       "       'RUA ARVORE DE UMBELA', 'VIADUTO MINISTRO ALIOMAR BALEEIRO',\n",
       "       'AVENIDA PIRES DO RIO', 'RUA CANTAGALO', 'VIADUTO JACEGUAI',\n",
       "       'AVENIDA SAO JOAO', 'RUA BENEDITO LEITE DE AVILA',\n",
       "       'AVENIDA AGUIAR DA BEIRA', 'RUA QUINTA DA MAGNOLIA',\n",
       "       'AVENIDA SAO MIGUEL', 'AVENIDA SALIM FARAH MALUF',\n",
       "       'AVENIDA GUILHERME COTCHING', 'AVENIDA PROFESSOR NOE AZEVEDO',\n",
       "       'AVENIDA DAS NACOES UNIDAS', 'ESTRADA DO CAMPO LIMPO',\n",
       "       'RUA CONSELHEIRO FURTADO', 'RUA DOUTOR RODRIGO PEREIRA BARRETO',\n",
       "       'RUA SAO TICIANO', 'AVENIDA DOUTOR ARNALDO',\n",
       "       'AVENIDA MARIA LUIZA AMERICANO', 'RUA SOLDADO JOSE LEITE DA SILVA',\n",
       "       'AVENIDA OTTO BAUMGART', 'AVENIDA SALGADO FILHO',\n",
       "       'AVENIDA ANTONIO BERNARDO', 'AVENIDA ANTONIO VITOR LOPES',\n",
       "       'VICINAL ANTONIO ABREU DO VALE', 'AVENIDA EDUARDO TONIELO',\n",
       "       'AVENIDA ELIZEU TAMIAO', 'RUA VENEZUELA', 'RUA SADRAC DE ARRUDA',\n",
       "       'AVENIDA EDVARD FRU-FRU MARCIANO DA SILVA', 'AVENIDA PARAGUAI',\n",
       "       'AVENIDA DOUTOR ULISSES GUIMARAES',\n",
       "       'AVENIDA ANTONIO SOARES AGUIAR', 'SP 097',\n",
       "       'ESTRADA AMERICO RIBEIRO DOS SANTOS', 'SPA 110/330', 'SP 031',\n",
       "       'SPA 058/031', 'RUA PRUDENTE DE MORAES',\n",
       "       'ESTRADA TENENTE JOSE MARIA DA CUNHA', 'SP 320',\n",
       "       'VICINAL TAPIRATIBA/IGARAI', 'AVENIDA FRANCISCO ALVES MONTEIRO',\n",
       "       'SP 062', 'AVENIDA IPEROIG', 'VICINAL PEDRO FLORIANO',\n",
       "       'AVENIDA VEREADOR JOSE ALEIXO', 'ROTATORIA AVENIDA GIOCONDA CIBIM',\n",
       "       'AVENIDA RIO GRANDE DO SUL', 'VICINAL BAIRRO GUAREI VELHO',\n",
       "       'VICINAL VEREADOR CICERO ROCHA', 'RUA VICENTE CELESTINO',\n",
       "       'RUA DO FICO', 'SPA 112/270', 'RUA VITAL BRASIL', 'SPA 045/107',\n",
       "       'AVENIDA BRIGADEIRO MANOEL RODRIGUES JORD',\n",
       "       'AVENIDA MARGINAL DIREITA', 'ESTRADA MUNICIPAL AGUA BRANCA',\n",
       "       'VICINAL BORA', 'RUA MAJOR MATEUS',\n",
       "       'ESTRADA MUN. JOSE F ALVARENGA', 'RUA DA PADROEIRA',\n",
       "       'RUA JOSE ELIAS JORGE', 'RUA ENGENHEIRO AUGUSTO DE FIGUEIREDO',\n",
       "       'ESTRADA PIRASSUNUNGA', 'AVENIDA SAO CAMILO',\n",
       "       'AVENIDA DESEMBARGADOR DOUTOR EDUARDO CUN', 'ESTRADA DA GABIROBA',\n",
       "       'VICINAL JOSE DE ABREU', 'AVENIDA LIONS', 'SPA 021/060',\n",
       "       'SPI 059/150', 'SP 150', 'AVENIDA ALDA',\n",
       "       'AVENIDA JOSE SIMOES LOURO JUNIOR', 'RUA HELMUTH HANS LUZ BACCI',\n",
       "       'AVENIDA DOUTOR FLAVIO ROCHA', 'SP 336', 'AVENIDA CHICO JULIO',\n",
       "       'AVENIDA DOUTOR HELIO PALERMO', 'VICINAL JOAO TRAFICANTE',\n",
       "       'RUA KASSAWARA', 'RUA DONA AYDA BAGANHA FERREIRA',\n",
       "       'AVENIDA JUSCELINO KUBITSCHECK DE OLIVEIR', 'AVENIDA DOM PEDRO I',\n",
       "       'RUA ACADEMICO INACIO NASCIMENTO OPAZO', 'AVENIDA NATALIA ZARIF',\n",
       "       'ALAMEDA DOS LIRIOS', 'ESTRADA ARUJA-BONSUCESSO', 'SP 383',\n",
       "       'ESTRADA FIGUEIRA', 'RUA BARAO LIMEIRO', 'SP 345',\n",
       "       'VICINAL ITAJU / AREALVA', 'AVENIDA HARRY FORSSELL',\n",
       "       'AVENIDA DOS ITALIANOS', 'AVENIDA SAO PAULO',\n",
       "       'AVENIDA FLORENCIA TERRA', 'VICINAL ANTONIO COLETTI',\n",
       "       'SPA 195/225', 'ESTRADA MANDI',\n",
       "       'ESTRADA MUNICIPAL LIMEIRA / SANTA BARBARA', 'AV TIRADENTES',\n",
       "       'SP 023', 'RUA PEDRO TROLI-', 'AVENIDA DO ORATORIO',\n",
       "       'AVENIDA PRESIDENTE CASTELO BRANCO',\n",
       "       'RUA DOUTOR JOAO CARLOS AZEVEDO', 'SPA 052/031', 'RUA RIO BRANCO',\n",
       "       'RUA MANUEL DE OLIVEIRA', 'RUA SAO JOAO',\n",
       "       'AVENIDA DOUTOR ALVARO DE CAMPOS CARNEIRO',\n",
       "       'ESTRADA TABOAO DO PARATEI', 'SP 342', 'AVENIDA SAO JOSE',\n",
       "       'SP 125', 'SP 331', 'RUA 13 DE MAIO', 'VICINAL GADBIN MEFLE',\n",
       "       'RUA ANISIO DA SILVEIRA', 'ESTRADA DA CESP',\n",
       "       'VICINAL PROFESSOR ANTONIO RUETE',\n",
       "       'VICINAL ANTONIO PONCE CERVELHEIRA', 'SPI 627/310', 'SPA 621/310',\n",
       "       'RUA JESSICA BRISOLA DE CARVALHO',\n",
       "       'RODOVIA FRANCISCO ALVES MONTEIRO', 'SP 046',\n",
       "       'ESTRADA JOSE BENEDITO MARCONDES VIEIRA', 'AVENIDA BAIRRO VERDE',\n",
       "       'RUA DAS ORQUIDEAS', 'RUA FRANCISCO CONRADO DOS SANTOS',\n",
       "       'RUA HORACIO ANTONIO AMARAL', 'AVENIDA LASAR SEGALI',\n",
       "       'AVENIDA CORONEL JOSE SOARES MARCONDES',\n",
       "       'VICINAL P.VENC / PIQUEROBI', 'RUA MARIO CESAR DE CAMARGO',\n",
       "       'AVENIDA JOSE CESARIO M DA SILVA', 'VICINAL RINOPLIS/IACRI',\n",
       "       'RUA CATAGUASES', 'AVENIDA NAVARRO DE ANDRADE',\n",
       "       'RUA PEREIRA PASSOS', 'TERMINAL URBANO DE PREFEITO SALADINO',\n",
       "       'AVENIDA JOVINO DE MELO', 'PRACA DAS BANDEIRAS', 'RUA SANTA MARIA',\n",
       "       'AVENIDA MARIA SERVIDEI DEMARCHE', 'RUA RACTICLIFF', 'SP 350',\n",
       "       'RUA MANOEL DEL ARCO', 'AVENIDA POTIRENDABA',\n",
       "       'AVENIDA FORTUNATO ERNESTO VETORASSO',\n",
       "       'AVENIDA FILADELFO MANOEL GOUVEIA NETO',\n",
       "       'AVENIDA SENADOR TEOTONIO VILELA', 'SP 251',\n",
       "       'AVENIDA DONA BELMIRA MARIN', 'ESTRADA DOM JOAO NERY',\n",
       "       'RUA GENERAL PORFIRIO DA PAZ',\n",
       "       'AVENIDA JACU PESSEGO NOVA TRABALHADORES', 'TRAVESSA JACQUES BREL',\n",
       "       'RUA ROQUE BARBOSA LIMA', 'PONTE DO PIQUERI',\n",
       "       'ESTRADA SAPOPEMBA - BENTO GUELF', 'RUA VICTOR PRIMON',\n",
       "       'RUA GUIRA ACANGATARA', 'AVENIDA SAPOPEMBA', 'RUA MONTE CAMBERELA',\n",
       "       'AVENIDA SANTO AMARO', 'RUA SAO TEODORO', 'RUA MATEO BEI',\n",
       "       'RUA DOS ITALIANOS', 'AVENIDA AGOSTINHO RUBIN',\n",
       "       'AVENIDA ENGENHEIRO CAETANO ALVARES', 'AVENIDA RAGUEB CHOHFI',\n",
       "       'RUA HENRY CHARLES POTEL', 'AVENIDA EUSEBIO MATOSO',\n",
       "       'RUA ANGELO CLERICI', 'RUA DA GAVEA', 'AVENIDA AGUIA DE HAIA',\n",
       "       'ESTRADA DO ALVARENGA', 'RUA CAPITAO PACHECO E CHAVES',\n",
       "       'RUA ALENCAR ARARIPE', 'ESTRADA ENGENHEIRO MARSILAC',\n",
       "       'AVENIDA RAIMUNDO PEREIRA DE MAGALHAES', 'RUA DO MANIFESTO',\n",
       "       'ESTRADA DE ITAPECERICA', 'AVENIDA DO ANASTACIO',\n",
       "       'AVENIDA MINISTRO LAUDO FERREIRA DE CAMAR', 'RUA NUPUTIRA',\n",
       "       'LARGO DA CONCORDIA', 'AVENIDA WALDEMAR TIETZ',\n",
       "       'AVENIDA DA ACLIMACAO', 'AVENIDA FRANCISCO VIEIRA BUENO',\n",
       "       'RUA PROFESSOR ANTONIO DE CASTRO LOPES', 'RUA DOUTOR FADLO HAIDAR',\n",
       "       'AVENIDA LUIS PIRES DE MINAS', 'ESTRADA DA COLONIA',\n",
       "       'AVENIDA PAULO GUILGUER REIMBERG', 'AVENIDA MONTEIRO LOBATO',\n",
       "       'AVENIDA MARGINAL', 'AVENIDA ANTONIO PASCHOAL',\n",
       "       'RUA ALICE AYRES DE MORAES', 'RUA ANTONIO GATO DA FONSECA',\n",
       "       'AVENIDA VINICIUS DE MORAES', 'AVENIDA AMERICO DE CARVALHO',\n",
       "       'RUA LAURA MAIELO KOK', 'RUA PEREIRA DA FONSECA',\n",
       "       'AVENIDA VITOR ANDREVI', 'PRACA MANOEL DE VASCONCELOS',\n",
       "       'RUA MARGARETE GIMENES CORREA', 'RUA FELICIO DE CAMARGO',\n",
       "       'RUA GUILHERME GARIJO', 'VICINAL TABATINGA/CURUPA',\n",
       "       'ESTRADA BENEDITO CESARIO DE OLIVEIRA', 'ESTRADA KIZAEMON TAKEUTI',\n",
       "       'ESTRADA MUNICIPAL MOISES MARTINS', 'RUA JOSE GALDENSI',\n",
       "       'SPA 030/287', 'VICINAL ADELMO PIVA', 'SP 344',\n",
       "       'RUA RAFAEL MORENO', 'SP 324', 'RUA SALVADOR ROTELA',\n",
       "       'RUA THOMAZ PAES DA CUNHA FILHO', 'SP 257', 'SP 479',\n",
       "       'RUA MARIA ROZA FEDERICE', 'VICINAL ANHEMBI / PIRAMBOIA',\n",
       "       'AVENIDA GETULIO', 'SPA 053/280', 'AVENIDA JORGE MELLEN REZEK',\n",
       "       'RUA DOS ANTURIOS', 'ESTRADA DOS PIRES', 'SP 261',\n",
       "       'AVENIDA DUQUE DE CAXIAS', 'AVENIDA VINTE E SEIS DE MARCO',\n",
       "       'SP 312', 'PONTE AKIRA HASHIMOTO', 'RUA CARLOS GOMES',\n",
       "       'AVENIDA PREFEITO MARIO MARTINS DE BARROS',\n",
       "       'RUA PRESIDENTE KENEDY', 'AVENIDA RODRIGUES ALVES',\n",
       "       'RUA SILVA JARDIM', 'AVENIDA HIGIDIO VERALDI',\n",
       "       'RODOVIA DA AMIZADE', 'AVENIDA DOUTOR JOSE ADRIANO MARREY JUNIOR',\n",
       "       'ESTRADA FAZENDA SANTO ANGELO', 'AVENIDA HENRY NESTLE',\n",
       "       'ESTRADA DA RHODIA', 'AVENIDA OROZIMBO MAIA',\n",
       "       'AVENIDA PRESTES MAIA', 'AVENIDA JOAO AMATO',\n",
       "       'AVENIDA JOSE DA COSTA PINHEIRO JUNIOR',\n",
       "       'AVENIDA INOCENCIO SERAFICO', 'ESTRADA FAZENDINHA', 'RUA ITAJUBA',\n",
       "       'VICINAL PRIMO NOVELLI', 'AVENIDA THEODORO ROSA FILHO',\n",
       "       'VICINAL VICENTE SANCHES', 'RUA BRASIL', 'VICINAL JOSE FERNANDES',\n",
       "       'AVENIDA JOAQUIM MIGUEL COUTO', 'SP 180', 'RUA ALFENAS', 'SP 215',\n",
       "       'RUA SALVADOR', 'VICINAL COMENDADOR CHAFIC SAAB',\n",
       "       'ESTRADA DE CONSTANTINOPLA', 'RUA MACIEIRA', 'SP 214',\n",
       "       'AVENIDA DOUTOR ABRAAO BRICKMAN', 'RUA DOUTOR ULISSES GUIMARAES',\n",
       "       'RUA ANTONIO CANDIDO DE ALMEIRA', 'RUA 14 B', 'SPA 553/300',\n",
       "       'SP 171', 'ESTRADA VELHA DO PINHAL', 'AVENIDA DOS CAICARAS',\n",
       "       'AVENIDA SANTOS DUMONT', 'ESTRADA GUARULHOS-NAZARE',\n",
       "       'AVENIDA PAPA JOAO PAULO I', 'RUA BENEDITO VALADARES RIBEIRO',\n",
       "       'RUA ARAGUATINS', 'RUA JOSE ANTONIO DE OLIVEIRA',\n",
       "       'AVENIDA DA EMANCIPACAO', 'AVENIDA SAO FRANCISCO DE ASSIS',\n",
       "       'SP 321', 'ESTRADA MUNICIPAL JULIO DAL FABRO',\n",
       "       'ESTRADA GENERAL MOTORS', 'AVENIDA JOAO BATISTA LEAL',\n",
       "       'AVENIDA CABUCU', 'RUA PRESIDENTE GETULIO VARGAS', 'SP 268',\n",
       "       'SP 249', 'AVENIDA CORREDOR OESTE', 'SP 352',\n",
       "       'RUA INACIO RODRIGUES DA SILVEIRA',\n",
       "       'ESTRADA MUNICIPAL DO QUILOMBO', 'RUA DOMINGOS REIS PIOVESAN',\n",
       "       'RUA ALFREDO SCHURIG', 'SP 561', 'RUA MAJOR PRADO', 'SP 036',\n",
       "       'AVENIDA CLARICE DE SOUZA ALMEIDA', 'RUA ANA ROCHA',\n",
       "       'AVENIDA PREFEITO JACOMO AUGUSTO PACOLA',\n",
       "       'VIA JURANDYR PAIXAO DE CAMPOS FREIRE',\n",
       "       'VIA ANTONIO CRUANES FILHO', 'RUA FREDERICO ROTULO',\n",
       "       'RUA JOSE ALVES DAVINHA', 'RUA MIGUEL BORTOLAN',\n",
       "       'AVENIDA TIRADENTES', 'ESTRADA MARIO COVAS', 'AVENIDA RIO BRANCO',\n",
       "       'RUA NICOLA FRANCESCO PERRI', 'RUA LEOIDIA OLIVEIRA NEVES',\n",
       "       'RUA OSCAR NIEMEYER', 'VICINAL ODILON NOGUEIRA DE AGUIAR',\n",
       "       'AVENIDA YOSHI NOMIYAMA', 'RUA VIRGILIO PADOVANI',\n",
       "       'AVENIDA GOVERNADOR ADHEMAR DE BARROS',\n",
       "       'AVENIDA LOTHAR WALDEMAR HOEHNE', 'RUA ROMA',\n",
       "       'AVENIDA FRANCISCO RODRIGUES FILHO',\n",
       "       'AVENIDA PREFEITO CARLOS FERREIRA LOPES', 'RUA IPIRANGA',\n",
       "       'AVENIDA ANTONIO DE ALMEIDA', 'VICINAL ITAPIRA/MOGI GUACU',\n",
       "       'RUA SENADOR JOSE BONIFACIO',\n",
       "       'RUA PREFEITO ATALIBA SILVEIRA FRANCO', 'AVENIDA FELIPE JORGE',\n",
       "       'AVENIDA GUIDO DELLA TOGNA', 'VICINAL DIOGENES BREDA FILHO',\n",
       "       'RUA DEONDES FERREIRA JOAO', 'AVENIDA JOAO VENTURA DOS SANTOS',\n",
       "       'RUA PROFETA JEREMIAS', 'SP 543', 'SP 421',\n",
       "       'AVENIDA PREFEITO JOSE LOZANO ARAUJO', 'SP 266',\n",
       "       'AVENIDA JULIO DE PAULA CLARO',\n",
       "       'AVENIDA ARMANDO SALES DE OLIVEIRA', 'VIA UBALDO LOLLI',\n",
       "       'AVENIDA EXPRESSO', 'VICINAL PROFESSOR ALAOR AUGUSTO VICENZI',\n",
       "       'SP 139', 'SP 122', 'AVENIDA EDUARDO ANDREIA MATARAZZO',\n",
       "       'RODOVIA JOSE FREGONEZI', 'RUA LAFAIETE', 'AVENIDA 82 B V',\n",
       "       'VICINAL JOSE APARECIDO GONCALVES', 'RUA TREZE DE MAIO', 'SP 077',\n",
       "       'RUA TERESINHA C BUSO', 'RUA INGA', 'AVENIDA DOUTOR RUDGE RAMOS',\n",
       "       'VIADUTO PADRE FIORENTE ELENA', 'AVENIDA DOM PEDRO DE ALCANTARA',\n",
       "       'AVENIDA GOIAS', 'AVENIDA FERNANDO SIMONSEN',\n",
       "       'RUA CLAUDIO MALAGOLI', 'RUA SAO JORGE', 'SP 427',\n",
       "       'VIADUTO BAIRRO VISTA VERDE', 'RUA DOUTOR SILVIO DANTE BERTACCHI',\n",
       "       'RUA ALCINDO FERRERIA', 'RUA PROFESSOR WALTER WEY',\n",
       "       'RUA FRANCISCO INACIO SOLANO', 'AVENIDA THOMAS EDISON',\n",
       "       'AVENIDA GIOVANNI GRONCHI', 'AVENIDA MENDES DA ROCHA',\n",
       "       'RUA MARQUES DE MARICA', 'AVENIDA PERI RONCHETTI',\n",
       "       'RUA MARIA AMALIA LOPES AZEVEDO', 'ESTRADA SANTA INES',\n",
       "       'AVENIDA BENTO GUELFI', 'AVENIDA MARQUES DE SAO VICENTE',\n",
       "       'AVENIDA MARIA COELHO AGUIAR', 'AVENIDA CONSELHEIRO CARRAO',\n",
       "       'RUA ZILDA', 'RUA FELIX CAPELLA', 'RUA ALFONSO RENDANO',\n",
       "       'AVENIDA JACU PESSEGO', 'RUA HENRY FUSETI',\n",
       "       'VIADUTO ENGENHEIRO ORLANDO GURGEL', 'AVENIDA DA BARREIRA GRANDE',\n",
       "       'RUA JOAO AMOS COMENIUS', 'AVENIDA NOVA CANTAREIRA',\n",
       "       'RUA FREDERICO RENE DE JAEGHER', 'AVENIDA ROBERT KENNEDY',\n",
       "       'AVENIDA SANTA CATARINA', 'RUA JOAQUIM MEIRA DE SIQUEIRA',\n",
       "       'TRAVESSA MAGONDI', 'AVENIDA ARESTOTELES COSTA PINTO',\n",
       "       'RUA ANTONIO CESAR NETO', 'AVENIDA BRIGADEIRO FARIA LIMA',\n",
       "       'AVENIDA AFFONSO DESCRAGNOLLE TAUNAY', 'RUA ALTO DE MONTALEGRE',\n",
       "       'RUA DIAS DA SILVA', 'RUA BAILAO', 'RUA MAPORE',\n",
       "       'AVENIDA GUARAPIRANGA', 'AVENIDA JOSE HIGINO NEVES',\n",
       "       'RUA AURORA DAS DORES', 'AVENIDA DO ESTADO', 'ESTRADA DA BARONESA',\n",
       "       'AVENIDA DALILA', 'RUA GAIVOTA', 'RUA SANTO ANTONIO DO ARACUAI',\n",
       "       'AVENIDA JOSE PINHEIRO BORGES', 'AVENIDA ADELIA CHOHFI',\n",
       "       'AVENIDA CUPECE', 'AVENIDA HELIO PELLEGRINO', 'ESTRADA DE PERUS',\n",
       "       'AVENIDA ATLANTICA', 'AVENIDA PROFESSOR ALFONSO BOVERO',\n",
       "       'RUA ANTONIO JOSE VIVEIRA', 'RUA AMARO DE PONTES',\n",
       "       'AVENIDA RANGEL PESTANA', 'RUA SOTERO DE SOUZA', 'RUA DEZENOVE',\n",
       "       'AVENIDA A', 'RUA AUGUSTO DE OLIVEIRA SANTOS',\n",
       "       'ESTRADA MUNICIPAL AMATIS JOSE FRANCHI', 'AVENIDA ITAVUVU',\n",
       "       'RUA MARIA DE LOURDES FERREIRA', 'RUA ERNESTO TEIXEIRA',\n",
       "       'RUA ROMULO GIANICHI', 'VICINAL ANTONIO RICARDO DE TOLEDO',\n",
       "       'VICINAL GUIDO BOTELHO', 'RUA DR. ATALIBA LEONEL',\n",
       "       'RUA ANNA INGHES DELEGADO FIOL', 'SP 141', 'SP 113',\n",
       "       'RUA CAPITAO FELIPE', 'SP 379', 'VICINAL MARCIRIO GOMES',\n",
       "       'RUA FRANCISCO JULIATO', 'AVENIDA INVERNADA',\n",
       "       'VICINAL PEDRO CARLOS FLAUSINO', 'RUA JOSE MARTINS MIRAVETI'],\n",
       "      dtype=object)"
      ]
     },
     "execution_count": 371,
     "metadata": {},
     "output_type": "execute_result"
    }
   ],
   "source": [
    "base_2019_1['Rua / Rodovia'].unique()"
   ]
  },
  {
   "cell_type": "code",
   "execution_count": 71,
   "metadata": {},
   "outputs": [],
   "source": [
    "\n",
    "# #separar dados de rua avenida em endereço\n",
    "# for dataset in data_1:\n",
    "#     dataset['Logradouro'] = dataset['Rua / Rodovia'].str.split(' ', expand=True)[0]"
   ]
  },
  {
   "cell_type": "code",
   "execution_count": 292,
   "metadata": {},
   "outputs": [],
   "source": [
    "# base_2016_1['Logradouro'].value_counts()"
   ]
  },
  {
   "cell_type": "code",
   "execution_count": 293,
   "metadata": {},
   "outputs": [],
   "source": [
    "#identificar valores NAO DISPONIVEL em coluna:Tipo de Via\n",
    "# Existem muitos valores 'NAO DISPONÍVEL' e 'OUTROS' - O que fazer? - moda? eliminar? manter?\n",
    "#nem todo SP ou BR é considerado como rodovia, por isso não tem como mexr nos dados NAO DISPONIVEIS\n",
    "# base_2015_1[['Tipo de Via', 'Rua / Rodovia', 'Logradouro']].loc[(base_2015_1['Tipo de Via'] == 'NAO DISPONIVEL')]"
   ]
  },
  {
   "cell_type": "code",
   "execution_count": 294,
   "metadata": {},
   "outputs": [],
   "source": [
    "\n",
    "# #Eliminar coluna 'Logradouro'\n",
    "\n",
    "# for dataset in data_1:\n",
    "#     dataset.drop(['Logradouro'], axis=1, inplace=True)\n",
    "    "
   ]
  },
  {
   "cell_type": "code",
   "execution_count": 295,
   "metadata": {},
   "outputs": [
    {
     "name": "stdout",
     "output_type": "stream",
     "text": [
      "<class 'pandas.core.frame.DataFrame'>\n",
      "Int64Index: 1205 entries, 0 to 1204\n",
      "Data columns (total 19 columns):\n",
      "Cidade Considerada                1205 non-null object\n",
      "Região Administrativa             1205 non-null object\n",
      "Ano Óbito                         1205 non-null int64\n",
      "Mês Óbito                         1205 non-null int64\n",
      "Mês Descrição                     1205 non-null object\n",
      "Sexo                              1205 non-null object\n",
      "Turno                             1205 non-null object\n",
      "Tipo Acidente                     1205 non-null object\n",
      "SubTipo do Acidente               1205 non-null object\n",
      "Tipo Veiculo                      1205 non-null object\n",
      "Faixa Etária                      1205 non-null object\n",
      "Idade                             1205 non-null object\n",
      "Tipo Vítima                       1205 non-null object\n",
      "Tipo Local do Acidente            1205 non-null object\n",
      "Dia Semana                        1205 non-null object\n",
      "Tipo de Via                       1205 non-null object\n",
      "Rua / Rodovia                     1205 non-null object\n",
      "Outro Veículo Envolvido           1205 non-null object\n",
      "Tempo entre Acidente e o Óbito    1205 non-null object\n",
      "dtypes: int64(2), object(17)\n",
      "memory usage: 188.3+ KB\n"
     ]
    }
   ],
   "source": [
    "base_2019_1.info()"
   ]
  },
  {
   "cell_type": "code",
   "execution_count": 312,
   "metadata": {},
   "outputs": [
    {
     "data": {
      "text/plain": [
       "AUTOMOVEL         413\n",
       "NÃO HÁ            316\n",
       "CAMINHAO          178\n",
       "NAO DISPONIVEL     97\n",
       "MOTOCICLETA        90\n",
       "ONIBUS             85\n",
       "BICICLETA          12\n",
       "OUTROS             11\n",
       "PEDESTRE            3\n",
       "Name: Outro Veículo Envolvido, dtype: int64"
      ]
     },
     "execution_count": 312,
     "metadata": {},
     "output_type": "execute_result"
    }
   ],
   "source": [
    "#_________________________________RODAR\n",
    "# Existem muitos valores 'NAO DISPONÍVEL' e 'OUTROS' - O que fazer? - moda? eliminar? manter?\n",
    "\n",
    "\n",
    "\n",
    "#substituir em 2016 - Outro Veículo Envolvido por OUTROS\n",
    "base_2016_1['Outro Veículo Envolvido'] = base_2016_1['Outro Veículo Envolvido'].replace([\n",
    "                                                     'Outro Veículo Envolvido'], 'OUTROS')\n",
    "base_2019_1['Outro Veículo Envolvido'].value_counts()"
   ]
  },
  {
   "cell_type": "code",
   "execution_count": 313,
   "metadata": {},
   "outputs": [
    {
     "data": {
      "text/plain": [
       "Mesmo dia          882\n",
       "Até 30 dias        103\n",
       "Até 7 dias         102\n",
       "1 dia               63\n",
       "Mais de 30 dias     55\n",
       "Name: Tempo entre Acidente e o Óbito, dtype: int64"
      ]
     },
     "execution_count": 313,
     "metadata": {},
     "output_type": "execute_result"
    }
   ],
   "source": [
    "#_________________________________________RODAR\n",
    "#2018 - At?? 7 dias por Até 7 dias\n",
    "base_2018_1['Tempo entre Acidente e o Óbito'] = base_2018_1['Tempo entre Acidente e o Óbito'].replace(['At?? 7 dias'],\n",
    "                                                                                                  'Até 7 dias')\n",
    "#substituir valor 'Dia anterior por 1 dia'\n",
    "for dataset in data_1:\n",
    "    dataset['Tempo entre Acidente e o Óbito'] = dataset['Tempo entre Acidente e o Óbito'].replace(['Dia anterior'],\n",
    "                                                                                                  '1 dia')\n",
    "\n",
    "base_2019_1['Tempo entre Acidente e o Óbito'].value_counts()"
   ]
  },
  {
   "cell_type": "markdown",
   "metadata": {},
   "source": [
    "### Vizualizando os dados"
   ]
  },
  {
   "cell_type": "markdown",
   "metadata": {},
   "source": [
    "Dados que poderia estar relacionados:\n",
    "- TEMPO: Mês, Dia da Semana, Turno\n",
    "- TIPO DE PESSOA: Sexo, Idade\n",
    "- MODO ACIDENTE: Tipo Acidente, Tipo Veículo\n",
    "- RESULTADO ACIDENTE: Tempo entre Acidente e o Óbito.\n",
    "- LOCALIZAÇÃO: Cidade Considerada, Região Administrativa, Tipo de Via  "
   ]
  },
  {
   "cell_type": "code",
   "execution_count": 314,
   "metadata": {},
   "outputs": [
    {
     "name": "stdout",
     "output_type": "stream",
     "text": [
      "<class 'pandas.core.frame.DataFrame'>\n",
      "Int64Index: 22371 entries, 0 to 1204\n",
      "Data columns (total 19 columns):\n",
      "Cidade Considerada                22371 non-null object\n",
      "Região Administrativa             22371 non-null object\n",
      "Ano Óbito                         22371 non-null int64\n",
      "Mês Óbito                         22371 non-null int64\n",
      "Mês Descrição                     22371 non-null object\n",
      "Sexo                              22371 non-null object\n",
      "Turno                             22371 non-null object\n",
      "Tipo Acidente                     22371 non-null object\n",
      "SubTipo do Acidente               22371 non-null object\n",
      "Tipo Veiculo                      22371 non-null object\n",
      "Faixa Etária                      22371 non-null object\n",
      "Idade                             22371 non-null object\n",
      "Tipo Vítima                       22371 non-null object\n",
      "Tipo Local do Acidente            22371 non-null object\n",
      "Dia Semana                        22371 non-null object\n",
      "Tipo de Via                       22371 non-null object\n",
      "Rua / Rodovia                     22371 non-null object\n",
      "Outro Veículo Envolvido           22371 non-null object\n",
      "Tempo entre Acidente e o Óbito    22371 non-null object\n",
      "dtypes: int64(2), object(17)\n",
      "memory usage: 3.4+ MB\n"
     ]
    }
   ],
   "source": [
    "#Criar um df com todos os dados\n",
    "base_all = pd.concat(data_1)\n",
    "base_all.sample(10)\n",
    "base_all.info()"
   ]
  },
  {
   "cell_type": "code",
   "execution_count": 315,
   "metadata": {},
   "outputs": [
    {
     "data": {
      "text/plain": [
       "array(['Mesmo dia', '1 dia', 'Até 30 dias', 'Mais de 30 dias',\n",
       "       'Até 7 dias'], dtype=object)"
      ]
     },
     "execution_count": 315,
     "metadata": {},
     "output_type": "execute_result"
    }
   ],
   "source": [
    "base_all['Tempo entre Acidente e o Óbito'].unique()"
   ]
  },
  {
   "cell_type": "code",
   "execution_count": 228,
   "metadata": {},
   "outputs": [],
   "source": [
    "base_all.to_csv('Base_completa.csv')"
   ]
  },
  {
   "cell_type": "code",
   "execution_count": 317,
   "metadata": {},
   "outputs": [
    {
     "data": {
      "text/plain": [
       "array([ 68,  69,  49,  28,   7,  62,  24,  30,  23,  33,  19,  59,  34,\n",
       "        45,  32,  46,  18,  25,  61,  58,  70,  57,  48,  50,  31,  40,\n",
       "        20,  52,   3,  15,  44,  54,  42,  75,  29,  55,  21,  27,   1,\n",
       "        41,  63,  43,  82,  38,  85,  17,   2,  26,  35,  47,  22,  71,\n",
       "        16,  64,  51,  67,  36,  77,  98,  81,  78,  66,  37,  14,  80,\n",
       "        79,  65,  39,  60,   9,  84,  53,  76,  73,  72,  74,  88,  13,\n",
       "        12,  86,  56,  83,   4,  87,  11,  89,  10,  92,   5,   0,   8,\n",
       "        94,  91,  90,  93,   6, 115,  96,  97,  99,  95, 118], dtype=int64)"
      ]
     },
     "execution_count": 317,
     "metadata": {},
     "output_type": "execute_result"
    }
   ],
   "source": [
    "#_________________________RODAR\n",
    "#transformando Idade em int64\n",
    "base_all['Idade'] = base_all['Idade'].astype('int64')\n",
    "\n",
    "# base_all['Idade'].value_counts()\n",
    "# base_all.info()\n",
    "base_all['Idade'].unique()"
   ]
  },
  {
   "cell_type": "code",
   "execution_count": 180,
   "metadata": {},
   "outputs": [
    {
     "data": {
      "text/plain": [
       "array(['65-69', '45-49', '25-29', '0-17', '60-64', '18-24', '30-34',\n",
       "       '55-59', '70-74', '50-54', '40-44', '75-79', '80 ou mais',\n",
       "       'NAO DISPONIVEL', '35-39'], dtype=object)"
      ]
     },
     "execution_count": 180,
     "metadata": {},
     "output_type": "execute_result"
    }
   ],
   "source": [
    "base_all['Faixa Etária'].unique()"
   ]
  },
  {
   "cell_type": "code",
   "execution_count": 318,
   "metadata": {},
   "outputs": [
    {
     "data": {
      "text/html": [
       "<div>\n",
       "<style scoped>\n",
       "    .dataframe tbody tr th:only-of-type {\n",
       "        vertical-align: middle;\n",
       "    }\n",
       "\n",
       "    .dataframe tbody tr th {\n",
       "        vertical-align: top;\n",
       "    }\n",
       "\n",
       "    .dataframe thead th {\n",
       "        text-align: right;\n",
       "    }\n",
       "</style>\n",
       "<table border=\"1\" class=\"dataframe\">\n",
       "  <thead>\n",
       "    <tr style=\"text-align: right;\">\n",
       "      <th></th>\n",
       "      <th>Idade</th>\n",
       "      <th>NOVA_Faixa Etária</th>\n",
       "    </tr>\n",
       "  </thead>\n",
       "  <tbody>\n",
       "    <tr>\n",
       "      <th>979</th>\n",
       "      <td>59</td>\n",
       "      <td>55-59</td>\n",
       "    </tr>\n",
       "    <tr>\n",
       "      <th>804</th>\n",
       "      <td>21</td>\n",
       "      <td>18-21</td>\n",
       "    </tr>\n",
       "    <tr>\n",
       "      <th>1915</th>\n",
       "      <td>21</td>\n",
       "      <td>18-21</td>\n",
       "    </tr>\n",
       "    <tr>\n",
       "      <th>2041</th>\n",
       "      <td>17</td>\n",
       "      <td>14-17</td>\n",
       "    </tr>\n",
       "    <tr>\n",
       "      <th>1051</th>\n",
       "      <td>31</td>\n",
       "      <td>30-34</td>\n",
       "    </tr>\n",
       "    <tr>\n",
       "      <th>4957</th>\n",
       "      <td>33</td>\n",
       "      <td>30-34</td>\n",
       "    </tr>\n",
       "    <tr>\n",
       "      <th>1247</th>\n",
       "      <td>36</td>\n",
       "      <td>35-39</td>\n",
       "    </tr>\n",
       "    <tr>\n",
       "      <th>3301</th>\n",
       "      <td>25</td>\n",
       "      <td>25-29</td>\n",
       "    </tr>\n",
       "    <tr>\n",
       "      <th>574</th>\n",
       "      <td>30</td>\n",
       "      <td>30-34</td>\n",
       "    </tr>\n",
       "    <tr>\n",
       "      <th>5655</th>\n",
       "      <td>63</td>\n",
       "      <td>60-64</td>\n",
       "    </tr>\n",
       "    <tr>\n",
       "      <th>5564</th>\n",
       "      <td>56</td>\n",
       "      <td>55-59</td>\n",
       "    </tr>\n",
       "    <tr>\n",
       "      <th>1142</th>\n",
       "      <td>50</td>\n",
       "      <td>50-54</td>\n",
       "    </tr>\n",
       "    <tr>\n",
       "      <th>4089</th>\n",
       "      <td>85</td>\n",
       "      <td>80 ou mais</td>\n",
       "    </tr>\n",
       "    <tr>\n",
       "      <th>543</th>\n",
       "      <td>64</td>\n",
       "      <td>60-64</td>\n",
       "    </tr>\n",
       "    <tr>\n",
       "      <th>23</th>\n",
       "      <td>20</td>\n",
       "      <td>18-21</td>\n",
       "    </tr>\n",
       "    <tr>\n",
       "      <th>1282</th>\n",
       "      <td>18</td>\n",
       "      <td>18-21</td>\n",
       "    </tr>\n",
       "    <tr>\n",
       "      <th>1209</th>\n",
       "      <td>58</td>\n",
       "      <td>55-59</td>\n",
       "    </tr>\n",
       "    <tr>\n",
       "      <th>1417</th>\n",
       "      <td>46</td>\n",
       "      <td>45-49</td>\n",
       "    </tr>\n",
       "    <tr>\n",
       "      <th>3907</th>\n",
       "      <td>33</td>\n",
       "      <td>30-34</td>\n",
       "    </tr>\n",
       "    <tr>\n",
       "      <th>526</th>\n",
       "      <td>17</td>\n",
       "      <td>14-17</td>\n",
       "    </tr>\n",
       "    <tr>\n",
       "      <th>1169</th>\n",
       "      <td>43</td>\n",
       "      <td>40-44</td>\n",
       "    </tr>\n",
       "    <tr>\n",
       "      <th>4109</th>\n",
       "      <td>40</td>\n",
       "      <td>40-44</td>\n",
       "    </tr>\n",
       "    <tr>\n",
       "      <th>1034</th>\n",
       "      <td>36</td>\n",
       "      <td>35-39</td>\n",
       "    </tr>\n",
       "    <tr>\n",
       "      <th>2489</th>\n",
       "      <td>28</td>\n",
       "      <td>25-29</td>\n",
       "    </tr>\n",
       "    <tr>\n",
       "      <th>4195</th>\n",
       "      <td>21</td>\n",
       "      <td>18-21</td>\n",
       "    </tr>\n",
       "    <tr>\n",
       "      <th>887</th>\n",
       "      <td>50</td>\n",
       "      <td>50-54</td>\n",
       "    </tr>\n",
       "    <tr>\n",
       "      <th>2970</th>\n",
       "      <td>20</td>\n",
       "      <td>18-21</td>\n",
       "    </tr>\n",
       "    <tr>\n",
       "      <th>2127</th>\n",
       "      <td>30</td>\n",
       "      <td>30-34</td>\n",
       "    </tr>\n",
       "    <tr>\n",
       "      <th>2519</th>\n",
       "      <td>31</td>\n",
       "      <td>30-34</td>\n",
       "    </tr>\n",
       "    <tr>\n",
       "      <th>351</th>\n",
       "      <td>33</td>\n",
       "      <td>30-34</td>\n",
       "    </tr>\n",
       "    <tr>\n",
       "      <th>505</th>\n",
       "      <td>32</td>\n",
       "      <td>30-34</td>\n",
       "    </tr>\n",
       "    <tr>\n",
       "      <th>481</th>\n",
       "      <td>17</td>\n",
       "      <td>14-17</td>\n",
       "    </tr>\n",
       "    <tr>\n",
       "      <th>5380</th>\n",
       "      <td>74</td>\n",
       "      <td>70-74</td>\n",
       "    </tr>\n",
       "    <tr>\n",
       "      <th>1490</th>\n",
       "      <td>22</td>\n",
       "      <td>22-24</td>\n",
       "    </tr>\n",
       "    <tr>\n",
       "      <th>2348</th>\n",
       "      <td>33</td>\n",
       "      <td>30-34</td>\n",
       "    </tr>\n",
       "    <tr>\n",
       "      <th>2382</th>\n",
       "      <td>43</td>\n",
       "      <td>40-44</td>\n",
       "    </tr>\n",
       "    <tr>\n",
       "      <th>2693</th>\n",
       "      <td>22</td>\n",
       "      <td>22-24</td>\n",
       "    </tr>\n",
       "    <tr>\n",
       "      <th>4229</th>\n",
       "      <td>38</td>\n",
       "      <td>35-39</td>\n",
       "    </tr>\n",
       "    <tr>\n",
       "      <th>5371</th>\n",
       "      <td>91</td>\n",
       "      <td>80 ou mais</td>\n",
       "    </tr>\n",
       "    <tr>\n",
       "      <th>233</th>\n",
       "      <td>43</td>\n",
       "      <td>40-44</td>\n",
       "    </tr>\n",
       "    <tr>\n",
       "      <th>4015</th>\n",
       "      <td>18</td>\n",
       "      <td>18-21</td>\n",
       "    </tr>\n",
       "    <tr>\n",
       "      <th>792</th>\n",
       "      <td>61</td>\n",
       "      <td>60-64</td>\n",
       "    </tr>\n",
       "    <tr>\n",
       "      <th>2490</th>\n",
       "      <td>34</td>\n",
       "      <td>30-34</td>\n",
       "    </tr>\n",
       "    <tr>\n",
       "      <th>2528</th>\n",
       "      <td>30</td>\n",
       "      <td>30-34</td>\n",
       "    </tr>\n",
       "    <tr>\n",
       "      <th>1190</th>\n",
       "      <td>53</td>\n",
       "      <td>50-54</td>\n",
       "    </tr>\n",
       "    <tr>\n",
       "      <th>4928</th>\n",
       "      <td>38</td>\n",
       "      <td>35-39</td>\n",
       "    </tr>\n",
       "    <tr>\n",
       "      <th>3086</th>\n",
       "      <td>22</td>\n",
       "      <td>22-24</td>\n",
       "    </tr>\n",
       "    <tr>\n",
       "      <th>3352</th>\n",
       "      <td>20</td>\n",
       "      <td>18-21</td>\n",
       "    </tr>\n",
       "    <tr>\n",
       "      <th>2947</th>\n",
       "      <td>31</td>\n",
       "      <td>30-34</td>\n",
       "    </tr>\n",
       "    <tr>\n",
       "      <th>2809</th>\n",
       "      <td>63</td>\n",
       "      <td>60-64</td>\n",
       "    </tr>\n",
       "  </tbody>\n",
       "</table>\n",
       "</div>"
      ],
      "text/plain": [
       "      Idade NOVA_Faixa Etária\n",
       "979      59             55-59\n",
       "804      21             18-21\n",
       "1915     21             18-21\n",
       "2041     17             14-17\n",
       "1051     31             30-34\n",
       "4957     33             30-34\n",
       "1247     36             35-39\n",
       "3301     25             25-29\n",
       "574      30             30-34\n",
       "5655     63             60-64\n",
       "5564     56             55-59\n",
       "1142     50             50-54\n",
       "4089     85        80 ou mais\n",
       "543      64             60-64\n",
       "23       20             18-21\n",
       "1282     18             18-21\n",
       "1209     58             55-59\n",
       "1417     46             45-49\n",
       "3907     33             30-34\n",
       "526      17             14-17\n",
       "1169     43             40-44\n",
       "4109     40             40-44\n",
       "1034     36             35-39\n",
       "2489     28             25-29\n",
       "4195     21             18-21\n",
       "887      50             50-54\n",
       "2970     20             18-21\n",
       "2127     30             30-34\n",
       "2519     31             30-34\n",
       "351      33             30-34\n",
       "505      32             30-34\n",
       "481      17             14-17\n",
       "5380     74             70-74\n",
       "1490     22             22-24\n",
       "2348     33             30-34\n",
       "2382     43             40-44\n",
       "2693     22             22-24\n",
       "4229     38             35-39\n",
       "5371     91        80 ou mais\n",
       "233      43             40-44\n",
       "4015     18             18-21\n",
       "792      61             60-64\n",
       "2490     34             30-34\n",
       "2528     30             30-34\n",
       "1190     53             50-54\n",
       "4928     38             35-39\n",
       "3086     22             22-24\n",
       "3352     20             18-21\n",
       "2947     31             30-34\n",
       "2809     63             60-64"
      ]
     },
     "execution_count": 318,
     "metadata": {},
     "output_type": "execute_result"
    }
   ],
   "source": [
    "#________________________________________________RODAR\n",
    "#como eu completei as idades faltantes com a mediana, preciso criar novas faixas etárias condizentes com essas idades\n",
    "# Vou criar uma nova coluna\n",
    "\n",
    "bins = [0,14,18,22,25,30,35,40,45,50,55,60,65,70,75,80,120]\n",
    "labels = ['0-13','14-17','18-21','22-24','25-29','30-34','35-39','40-44','45-49','50-54','55-59','60-64','65-69','70-74',\n",
    "          '75-79', '80 ou mais']\n",
    "         \n",
    "base_all['NOVA_Faixa Etária'] = pd.cut(base_all['Idade'], bins=bins, labels=labels, right= False)\n",
    "base_all[['Idade', 'NOVA_Faixa Etária']].sample(50)"
   ]
  },
  {
   "cell_type": "code",
   "execution_count": 319,
   "metadata": {},
   "outputs": [
    {
     "name": "stdout",
     "output_type": "stream",
     "text": [
      "<class 'pandas.core.frame.DataFrame'>\n",
      "Int64Index: 22371 entries, 0 to 1204\n",
      "Data columns (total 20 columns):\n",
      "Cidade Considerada                22371 non-null object\n",
      "Região Administrativa             22371 non-null object\n",
      "Ano Óbito                         22371 non-null int64\n",
      "Mês Óbito                         22371 non-null int64\n",
      "Mês Descrição                     22371 non-null object\n",
      "Sexo                              22371 non-null object\n",
      "Turno                             22371 non-null object\n",
      "Tipo Acidente                     22371 non-null object\n",
      "SubTipo do Acidente               22371 non-null object\n",
      "Tipo Veiculo                      22371 non-null object\n",
      "Faixa Etária                      22371 non-null object\n",
      "Idade                             22371 non-null int64\n",
      "Tipo Vítima                       22371 non-null object\n",
      "Tipo Local do Acidente            22371 non-null object\n",
      "Dia Semana                        22371 non-null object\n",
      "Tipo de Via                       22371 non-null object\n",
      "Rua / Rodovia                     22371 non-null object\n",
      "Outro Veículo Envolvido           22371 non-null object\n",
      "Tempo entre Acidente e o Óbito    22371 non-null object\n",
      "NOVA_Faixa Etária                 22371 non-null category\n",
      "dtypes: category(1), int64(3), object(16)\n",
      "memory usage: 3.4+ MB\n"
     ]
    }
   ],
   "source": [
    "base_all.info()"
   ]
  },
  {
   "cell_type": "code",
   "execution_count": 320,
   "metadata": {},
   "outputs": [
    {
     "data": {
      "text/plain": [
       "Mesmo dia          18244\n",
       "Até 7 dias          1343\n",
       "Até 30 dias         1101\n",
       "1 dia                867\n",
       "Mais de 30 dias      816\n",
       "Name: Tempo entre Acidente e o Óbito, dtype: int64"
      ]
     },
     "execution_count": 320,
     "metadata": {},
     "output_type": "execute_result"
    }
   ],
   "source": [
    "#???????????????????????????????????????????????\n",
    "#Dúvidas - como lidar com os valores NAO DISPONIVEL que tem uma quantidade de aprox.\n",
    "#Tipo Veículo (Ñ1293 - 6% | OUTROS=137 - 0,6% | TOTAL = 7%) OK!\n",
    "#Turno (1975 - 9%)\n",
    "#Tipo Acidente (Ñ=1924 - 9% | OUTROS=2833 - 13% | TOTAL - 22%) OK!\n",
    "#Tipo Vítima (1903 - 8%)\n",
    "#Tipo de Via (758 - 3%)\n",
    "#Outro Veículo Envolvido (2641 - 12%)\n",
    "\n",
    "#TO-DO:\n",
    "#relação entre tempo entre acidente e óbito: idade| tipo de acidente | Tipo de Veículo\n",
    "#se tem outro veículo envolvido\n",
    "\n",
    "\n",
    "\n",
    "\n",
    "#total = 22371\n",
    "base_all['Tempo entre Acidente e o Óbito'].value_counts()"
   ]
  },
  {
   "cell_type": "code",
   "execution_count": 208,
   "metadata": {},
   "outputs": [
    {
     "name": "stdout",
     "output_type": "stream",
     "text": [
      "<class 'pandas.core.frame.DataFrame'>\n",
      "Int64Index: 22371 entries, 0 to 1204\n",
      "Data columns (total 20 columns):\n",
      "Cidade Considerada                22371 non-null object\n",
      "Região Administrativa             22371 non-null object\n",
      "Ano Óbito                         22371 non-null int64\n",
      "Mês Óbito                         22371 non-null int64\n",
      "Mês Descrição                     22371 non-null object\n",
      "Sexo                              22371 non-null object\n",
      "Turno                             22371 non-null object\n",
      "Tipo Acidente                     22371 non-null object\n",
      "SubTipo do Acidente               22371 non-null object\n",
      "Tipo Veiculo                      22371 non-null object\n",
      "Faixa Etária                      22371 non-null object\n",
      "Idade                             22371 non-null int64\n",
      "Tipo Vítima                       22371 non-null object\n",
      "Tipo Local do Acidente            22371 non-null object\n",
      "Dia Semana                        22371 non-null object\n",
      "Tipo de Via                       22371 non-null object\n",
      "Rua / Rodovia                     22371 non-null object\n",
      "Outro Veículo Envolvido           22371 non-null object\n",
      "Tempo entre Acidente e o Óbito    22371 non-null object\n",
      "NOVA_Faixa Etária                 22371 non-null category\n",
      "dtypes: category(1), int64(3), object(16)\n",
      "memory usage: 4.1+ MB\n"
     ]
    }
   ],
   "source": [
    "base_all.info()"
   ]
  },
  {
   "cell_type": "code",
   "execution_count": 326,
   "metadata": {},
   "outputs": [],
   "source": [
    "#_____________________RODAR A PARTIR DAQUI\n",
    "# Para substituir os valores desconhecidos para tipo de veículo, seria interessante fazer\n",
    "# isso separando as regiões administrativas\n",
    "base_teste = base_all.copy()"
   ]
  },
  {
   "cell_type": "code",
   "execution_count": 329,
   "metadata": {},
   "outputs": [
    {
     "data": {
      "text/plain": [
       "array(['Sorocaba', 'Campinas', 'São José do Rio Preto',\n",
       "       'São José dos Campos', 'Itapeva', 'Araçatuba', 'Central',\n",
       "       'Metropolitana de São Paulo', 'Franca', 'Bauru', 'Barretos',\n",
       "       'Marília', 'Baixada Santista', 'Ribeirão Preto',\n",
       "       'Presidente Prudente', 'Registro'], dtype=object)"
      ]
     },
     "execution_count": 329,
     "metadata": {},
     "output_type": "execute_result"
    }
   ],
   "source": [
    "base_teste['Região Administrativa'].unique()"
   ]
  },
  {
   "cell_type": "code",
   "execution_count": 338,
   "metadata": {},
   "outputs": [],
   "source": [
    "#Regioes com mais acidentes Motocicleta e Pedestre\n",
    "base_teste_1 = base_teste.loc[base_teste['Região Administrativa'].str.contains(\n",
    "                          'Metropolitana de São Paulo|São José dos Campos|Baixada Santista')]"
   ]
  },
  {
   "cell_type": "code",
   "execution_count": 340,
   "metadata": {},
   "outputs": [
    {
     "data": {
      "text/plain": [
       "Metropolitana de São Paulo    7394\n",
       "São José dos Campos           1491\n",
       "Baixada Santista              1108\n",
       "Name: Região Administrativa, dtype: int64"
      ]
     },
     "execution_count": 340,
     "metadata": {},
     "output_type": "execute_result"
    }
   ],
   "source": [
    "\n",
    "base_teste_1['Região Administrativa'].value_counts()"
   ]
  },
  {
   "cell_type": "code",
   "execution_count": null,
   "metadata": {},
   "outputs": [],
   "source": [
    "base_teste_1 = base_teste.loc[base_teste['Região Administrativa'].str.contains(\n",
    "                          'Metropolitana de São Paulo|São José dos Campos|Baixada Santista')]"
   ]
  },
  {
   "cell_type": "code",
   "execution_count": 341,
   "metadata": {},
   "outputs": [],
   "source": [
    "#Regioes com mais acidentes Automóveis\n",
    "base_teste_2 = base_teste.loc[base_teste['Região Administrativa'].str.contains(\n",
    "                          'Metropolitana de São Paulo|São José dos Campos|Baixada Santista')==False]"
   ]
  },
  {
   "cell_type": "code",
   "execution_count": 342,
   "metadata": {},
   "outputs": [
    {
     "data": {
      "text/plain": [
       "Campinas                 3942\n",
       "Sorocaba                 1818\n",
       "São José do Rio Preto    1265\n",
       "Ribeirão Preto            765\n",
       "Marília                   654\n",
       "Bauru                     648\n",
       "Central                   648\n",
       "Presidente Prudente       569\n",
       "Araçatuba                 528\n",
       "Franca                    459\n",
       "Itapeva                   385\n",
       "Registro                  377\n",
       "Barretos                  320\n",
       "Name: Região Administrativa, dtype: int64"
      ]
     },
     "execution_count": 342,
     "metadata": {},
     "output_type": "execute_result"
    }
   ],
   "source": [
    "base_teste_2['Região Administrativa'].value_counts()"
   ]
  },
  {
   "cell_type": "code",
   "execution_count": 346,
   "metadata": {},
   "outputs": [
    {
     "data": {
      "text/plain": [
       "AUTOMOVEL         3846\n",
       "MOTOCICLETA       3830\n",
       "PEDESTRE          2476\n",
       "NAO DISPONIVEL     815\n",
       "BICICLETA          721\n",
       "CAMINHAO           495\n",
       "OUTROS             111\n",
       "ONIBUS              84\n",
       "Name: Tipo Veiculo, dtype: int64"
      ]
     },
     "execution_count": 346,
     "metadata": {},
     "output_type": "execute_result"
    }
   ],
   "source": [
    "base_teste_2['Tipo Veiculo'].value_counts()"
   ]
  },
  {
   "cell_type": "code",
   "execution_count": 347,
   "metadata": {},
   "outputs": [],
   "source": [
    "data_teste = [base_teste_1, base_teste_2]\n",
    "\n",
    "for dataset in data_teste:\n",
    "    dataset['Tipo Veiculo'] = dataset['Tipo Veiculo'].replace(['NAO DISPONIVEL', 'OUTROS'], np.nan)"
   ]
  },
  {
   "cell_type": "code",
   "execution_count": 349,
   "metadata": {},
   "outputs": [],
   "source": [
    "for dataset in data_teste:\n",
    "    dataset['Tipo Veiculo'].fillna(dataset['Tipo Veiculo'].mode()[0], inplace = True)"
   ]
  },
  {
   "cell_type": "code",
   "execution_count": 352,
   "metadata": {},
   "outputs": [],
   "source": [
    "base_all_2 = pd.concat(data_teste)"
   ]
  },
  {
   "cell_type": "code",
   "execution_count": 355,
   "metadata": {},
   "outputs": [],
   "source": [
    "base_all_2.to_csv('Base completa 2')"
   ]
  },
  {
   "cell_type": "code",
   "execution_count": 354,
   "metadata": {},
   "outputs": [
    {
     "data": {
      "text/plain": [
       "MOTOCICLETA    7247\n",
       "PEDESTRE       6504\n",
       "AUTOMOVEL      6424\n",
       "BICICLETA      1357\n",
       "CAMINHAO        685\n",
       "ONIBUS          154\n",
       "Name: Tipo Veiculo, dtype: int64"
      ]
     },
     "execution_count": 354,
     "metadata": {},
     "output_type": "execute_result"
    }
   ],
   "source": [
    "base_all_2['Tipo Veiculo'].value_counts()"
   ]
  },
  {
   "cell_type": "code",
   "execution_count": 357,
   "metadata": {},
   "outputs": [],
   "source": [
    "#_____________________RODAR A PARTIR DAQUI\n",
    "# Para substituir os valores desconhecidos para tipo de acidente, seria interessante fazer\n",
    "# isso separando a Região Metropolitana de São Paulo\n",
    "base_t = base_all_2.copy()"
   ]
  },
  {
   "cell_type": "code",
   "execution_count": 358,
   "metadata": {},
   "outputs": [],
   "source": [
    "#Regioes com mais acidentes de Atropelamento\n",
    "base_t_1 = base_t.loc[base_t['Região Administrativa'].str.contains(\n",
    "                          'Metropolitana de São Paulo')]"
   ]
  },
  {
   "cell_type": "code",
   "execution_count": 360,
   "metadata": {},
   "outputs": [],
   "source": [
    "#Regioes com mais acidentes de Colisão\n",
    "base_t_2 = base_t.loc[base_t['Região Administrativa'].str.contains(\n",
    "                          'Metropolitana de São Paulo')==False]"
   ]
  },
  {
   "cell_type": "code",
   "execution_count": 361,
   "metadata": {},
   "outputs": [
    {
     "name": "stdout",
     "output_type": "stream",
     "text": [
      "<class 'pandas.core.frame.DataFrame'>\n",
      "Int64Index: 14977 entries, 5 to 1204\n",
      "Data columns (total 20 columns):\n",
      "Cidade Considerada                14977 non-null object\n",
      "Região Administrativa             14977 non-null object\n",
      "Ano Óbito                         14977 non-null int64\n",
      "Mês Óbito                         14977 non-null int64\n",
      "Mês Descrição                     14977 non-null object\n",
      "Sexo                              14977 non-null object\n",
      "Turno                             14977 non-null object\n",
      "Tipo Acidente                     14977 non-null object\n",
      "SubTipo do Acidente               14977 non-null object\n",
      "Tipo Veiculo                      14977 non-null object\n",
      "Faixa Etária                      14977 non-null object\n",
      "Idade                             14977 non-null int64\n",
      "Tipo Vítima                       14977 non-null object\n",
      "Tipo Local do Acidente            14977 non-null object\n",
      "Dia Semana                        14977 non-null object\n",
      "Tipo de Via                       14977 non-null object\n",
      "Rua / Rodovia                     14977 non-null object\n",
      "Outro Veículo Envolvido           14977 non-null object\n",
      "Tempo entre Acidente e o Óbito    14977 non-null object\n",
      "NOVA_Faixa Etária                 14977 non-null category\n",
      "dtypes: category(1), int64(3), object(16)\n",
      "memory usage: 2.3+ MB\n"
     ]
    }
   ],
   "source": [
    "base_t_2.info()"
   ]
  },
  {
   "cell_type": "code",
   "execution_count": 362,
   "metadata": {},
   "outputs": [],
   "source": [
    "data_t = [base_t_1, base_t_2]\n",
    "\n",
    "for dataset in data_t:\n",
    "    dataset['Tipo Acidente'] = dataset['Tipo Acidente'].replace(['NAO DISPONIVEL', 'OUTROS'], np.nan)\n",
    "    \n",
    "    dataset['Tipo Acidente'].fillna(dataset['Tipo Acidente'].mode()[0], inplace = True)\n",
    "    "
   ]
  },
  {
   "cell_type": "code",
   "execution_count": 364,
   "metadata": {},
   "outputs": [
    {
     "data": {
      "text/plain": [
       "COLISAO          9632\n",
       "ATROPELAMENTO    3280\n",
       "CHOQUE           2065\n",
       "Name: Tipo Acidente, dtype: int64"
      ]
     },
     "execution_count": 364,
     "metadata": {},
     "output_type": "execute_result"
    }
   ],
   "source": [
    "base_t_2['Tipo Acidente'].value_counts()"
   ]
  },
  {
   "cell_type": "code",
   "execution_count": 400,
   "metadata": {},
   "outputs": [],
   "source": [
    "base_all_3 = pd.concat(data_t)\n",
    "base_all_3.to_csv('Base completa 3.csv')"
   ]
  },
  {
   "cell_type": "code",
   "execution_count": 366,
   "metadata": {},
   "outputs": [
    {
     "name": "stdout",
     "output_type": "stream",
     "text": [
      "<class 'pandas.core.frame.DataFrame'>\n",
      "Int64Index: 22371 entries, 22 to 1204\n",
      "Data columns (total 20 columns):\n",
      "Cidade Considerada                22371 non-null object\n",
      "Região Administrativa             22371 non-null object\n",
      "Ano Óbito                         22371 non-null int64\n",
      "Mês Óbito                         22371 non-null int64\n",
      "Mês Descrição                     22371 non-null object\n",
      "Sexo                              22371 non-null object\n",
      "Turno                             22371 non-null object\n",
      "Tipo Acidente                     22371 non-null object\n",
      "SubTipo do Acidente               22371 non-null object\n",
      "Tipo Veiculo                      22371 non-null object\n",
      "Faixa Etária                      22371 non-null object\n",
      "Idade                             22371 non-null int64\n",
      "Tipo Vítima                       22371 non-null object\n",
      "Tipo Local do Acidente            22371 non-null object\n",
      "Dia Semana                        22371 non-null object\n",
      "Tipo de Via                       22371 non-null object\n",
      "Rua / Rodovia                     22371 non-null object\n",
      "Outro Veículo Envolvido           22371 non-null object\n",
      "Tempo entre Acidente e o Óbito    22371 non-null object\n",
      "NOVA_Faixa Etária                 22371 non-null category\n",
      "dtypes: category(1), int64(3), object(16)\n",
      "memory usage: 3.4+ MB\n"
     ]
    }
   ],
   "source": [
    "base_all_3.info()"
   ]
  },
  {
   "cell_type": "code",
   "execution_count": 368,
   "metadata": {},
   "outputs": [],
   "source": [
    "#____________________________RODAR\n",
    "#Demais casos com NAO DISPONIVEL e OUTROS - Substituir com a moda\n",
    "\n",
    "base_all_3['Turno'] = base_all_3['Turno'].replace(['NAO DISPONIVEL', 'OUTROS'], np.nan)\n",
    "base_all_3['Turno'].fillna(base_all_3['Turno'].mode()[0], inplace = True)\n",
    "\n",
    "base_all_3['Tipo Vítima'] = base_all_3['Tipo Vítima'].replace(['NAO DISPONIVEL', 'OUTROS'], np.nan)\n",
    "base_all_3['Tipo Vítima'].fillna(base_all_3['Tipo Vítima'].mode()[0], inplace = True)\n",
    "    \n",
    "base_all_3['Tipo de Via'] = base_all_3['Tipo de Via'].replace(['NAO DISPONIVEL', 'OUTROS'], np.nan)\n",
    "base_all_3['Tipo de Via'].fillna(base_all_3['Tipo de Via'].mode()[0], inplace = True)\n",
    "\n",
    "base_all_3['Outro Veículo Envolvido'] = base_all_3['Outro Veículo Envolvido'].replace(['NAO DISPONIVEL', 'OUTROS'], np.nan)\n",
    "base_all_3['Outro Veículo Envolvido'].fillna(base_all_3['Outro Veículo Envolvido'].mode()[0], inplace = True)\n"
   ]
  },
  {
   "cell_type": "code",
   "execution_count": 373,
   "metadata": {},
   "outputs": [
    {
     "data": {
      "text/plain": [
       "AUTOMOVEL      16557\n",
       "CAMINHAO        1927\n",
       "NÃO HÁ          1915\n",
       "MOTOCICLETA     1023\n",
       "ONIBUS           876\n",
       "BICICLETA         52\n",
       "PEDESTRE          21\n",
       "Name: Outro Veículo Envolvido, dtype: int64"
      ]
     },
     "execution_count": 373,
     "metadata": {},
     "output_type": "execute_result"
    }
   ],
   "source": [
    "base_all_3['Outro Veículo Envolvido'].value_counts()"
   ]
  },
  {
   "cell_type": "markdown",
   "metadata": {},
   "source": [
    "### Relações entre as variáveis"
   ]
  },
  {
   "cell_type": "code",
   "execution_count": 374,
   "metadata": {},
   "outputs": [
    {
     "data": {
      "text/plain": [
       "(array([0, 1, 2, 3]), <a list of 4 Text xticklabel objects>)"
      ]
     },
     "execution_count": 374,
     "metadata": {},
     "output_type": "execute_result"
    },
    {
     "data": {
      "image/png": "[encoded data removed]",
      "text/plain": [
       "<Figure size 1080x288 with 3 Axes>"
      ]
     },
     "metadata": {},
     "output_type": "display_data"
    }
   ],
   "source": [
    "# Relação entre Mês e Dia Semana\n",
    "a=pd.crosstab(base_all_3['Mês Óbito'], base_all_3['Dia Semana'])\n",
    "# base_all['Dia Semana'].value_counts()\n",
    "\n",
    "# # dia_semana = base_2017_1['Dia Semana'].value_counts()\n",
    "angulo=90\n",
    "alp = 0.8\n",
    "plt.rc('figure', figsize = (15,4))\n",
    "\n",
    "plt.subplot(131)\n",
    "sns.countplot(base_all_3['Dia Semana'], alpha = alp)\n",
    "plt.xticks(rotation=angulo)\n",
    "\n",
    "plt.subplot(132)\n",
    "sns.countplot('Ano Óbito', data=base_all_3, alpha = alp)\n",
    "plt.xticks(rotation=angulo)\n",
    "\n",
    "plt.subplot(133)\n",
    "sns.countplot('Turno', data=base_all_3[base_all_3['Turno'] !='NAO DISPONIVEL'], alpha = alp)\n",
    "plt.xticks(rotation=angulo)"
   ]
  },
  {
   "cell_type": "code",
   "execution_count": 375,
   "metadata": {},
   "outputs": [
    {
     "data": {
      "text/plain": [
       "<matplotlib.axes._subplots.AxesSubplot at 0x1e680ddbfd0>"
      ]
     },
     "execution_count": 375,
     "metadata": {},
     "output_type": "execute_result"
    },
    {
     "data": {
      "image/png": "[encoded data removed]",
      "text/plain": [
       "<Figure size 1080x288 with 1 Axes>"
      ]
     },
     "metadata": {},
     "output_type": "display_data"
    }
   ],
   "source": [
    "sns.countplot(x='Dia Semana', hue= 'Turno', data=base_all_3, alpha = alp)"
   ]
  },
  {
   "cell_type": "code",
   "execution_count": 376,
   "metadata": {},
   "outputs": [
    {
     "data": {
      "text/plain": [
       "<matplotlib.axes._subplots.AxesSubplot at 0x1e680eb5dd8>"
      ]
     },
     "execution_count": 376,
     "metadata": {},
     "output_type": "execute_result"
    },
    {
     "data": {
      "image/png": "[encoded data removed]",
      "text/plain": [
       "<Figure size 1080x288 with 1 Axes>"
      ]
     },
     "metadata": {},
     "output_type": "display_data"
    }
   ],
   "source": [
    "sns.countplot(x='Mês Óbito', hue= 'Turno', data=base_all_3, alpha = alp)"
   ]
  },
  {
   "cell_type": "code",
   "execution_count": 377,
   "metadata": {},
   "outputs": [
    {
     "data": {
      "text/plain": [
       "<matplotlib.axes._subplots.AxesSubplot at 0x1e6812d9f60>"
      ]
     },
     "execution_count": 377,
     "metadata": {},
     "output_type": "execute_result"
    },
    {
     "data": {
      "image/png": "[encoded data removed]",
      "text/plain": [
       "<Figure size 1080x288 with 1 Axes>"
      ]
     },
     "metadata": {},
     "output_type": "display_data"
    }
   ],
   "source": [
    "sns.countplot(x='Mês Óbito', hue= 'Dia Semana', data=base_all_3, alpha = alp)"
   ]
  },
  {
   "cell_type": "code",
   "execution_count": 378,
   "metadata": {},
   "outputs": [
    {
     "data": {
      "text/plain": [
       "<matplotlib.axes._subplots.AxesSubplot at 0x1e681b3a080>"
      ]
     },
     "execution_count": 378,
     "metadata": {},
     "output_type": "execute_result"
    },
    {
     "data": {
      "image/png": "[encoded data removed]",
      "text/plain": [
       "<Figure size 1080x288 with 1 Axes>"
      ]
     },
     "metadata": {},
     "output_type": "display_data"
    }
   ],
   "source": [
    "#Olhar detalhe de 2016 - não foi preenchido meses de maio(pouco), junho, julho, agosto, setembro\n",
    "#Não sei se faz sentido, mas 2016 foi ano de elição municipal, essa época não preenchida correspode à campanha elitoral.\n",
    "sns.countplot(x='Mês Óbito', hue= 'Ano Óbito', data=base_all_3, alpha = alp)"
   ]
  },
  {
   "cell_type": "code",
   "execution_count": 379,
   "metadata": {},
   "outputs": [
    {
     "data": {
      "text/plain": [
       "<matplotlib.axes._subplots.AxesSubplot at 0x1e681c2cfd0>"
      ]
     },
     "execution_count": 379,
     "metadata": {},
     "output_type": "execute_result"
    },
    {
     "data": {
      "image/png": "[encoded data removed]",
      "text/plain": [
       "<Figure size 1080x288 with 1 Axes>"
      ]
     },
     "metadata": {},
     "output_type": "display_data"
    }
   ],
   "source": [
    "#se tirar 2016, percebe-se que tem uma queda contínua ao longo dos anos, menos nos meses de junho, julho e setembro\n",
    "sns.countplot(x='Mês Óbito', hue= 'Ano Óbito', data=base_all_3[(\n",
    "              base_all_3['Ano Óbito']!=(2016)) &\n",
    "              (base_all_3['Ano Óbito']!=(2019))],\n",
    "              alpha=alp)"
   ]
  },
  {
   "cell_type": "code",
   "execution_count": 381,
   "metadata": {},
   "outputs": [
    {
     "data": {
      "text/plain": [
       "<matplotlib.axes._subplots.AxesSubplot at 0x1e6821bae10>"
      ]
     },
     "execution_count": 381,
     "metadata": {},
     "output_type": "execute_result"
    },
    {
     "data": {
      "image/png": "[encoded data removed]",
      "text/plain": [
       "<Figure size 1080x288 with 1 Axes>"
      ]
     },
     "metadata": {},
     "output_type": "display_data"
    }
   ],
   "source": [
    "sns.countplot(x='Mês Óbito', hue= 'Sexo', data=base_all_3[(base_all_3['Ano Óbito']!=(2016)) &\n",
    "                                                       (base_all_3['Ano Óbito']!=(2019))],\n",
    "                                                        alpha = alp)"
   ]
  },
  {
   "cell_type": "code",
   "execution_count": 382,
   "metadata": {},
   "outputs": [
    {
     "data": {
      "text/plain": [
       "<matplotlib.axes._subplots.AxesSubplot at 0x1e681fdfba8>"
      ]
     },
     "execution_count": 382,
     "metadata": {},
     "output_type": "execute_result"
    },
    {
     "data": {
      "image/png": "[encoded data removed]",
      "text/plain": [
       "<Figure size 1080x288 with 1 Axes>"
      ]
     },
     "metadata": {},
     "output_type": "display_data"
    }
   ],
   "source": [
    "sns.countplot(x='Dia Semana', hue= 'Sexo', data=base_all_3, alpha = alp)"
   ]
  },
  {
   "cell_type": "code",
   "execution_count": 383,
   "metadata": {},
   "outputs": [
    {
     "data": {
      "text/plain": [
       "<matplotlib.axes._subplots.AxesSubplot at 0x1e6820548d0>"
      ]
     },
     "execution_count": 383,
     "metadata": {},
     "output_type": "execute_result"
    },
    {
     "data": {
      "image/png": "[encoded data removed]",
      "text/plain": [
       "<Figure size 1080x288 with 1 Axes>"
      ]
     },
     "metadata": {},
     "output_type": "display_data"
    }
   ],
   "source": [
    "sns.countplot(x='Turno', hue= 'Sexo', data=base_all_3, alpha = alp)"
   ]
  },
  {
   "cell_type": "code",
   "execution_count": 384,
   "metadata": {
    "scrolled": true
   },
   "outputs": [
    {
     "data": {
      "text/plain": [
       "<matplotlib.axes._subplots.AxesSubplot at 0x1e682108a20>"
      ]
     },
     "execution_count": 384,
     "metadata": {},
     "output_type": "execute_result"
    },
    {
     "data": {
      "image/png": "[encoded data removed]",
      "text/plain": [
       "<Figure size 1080x288 with 1 Axes>"
      ]
     },
     "metadata": {},
     "output_type": "display_data"
    }
   ],
   "source": [
    "#Usando faixa etária antiga - dada pelo original (com dados vazios)\n",
    "sns.countplot(x='Faixa Etária', hue= 'Sexo', data=base_all_3[base_all_3['Faixa Etária'] !='NAO DISPONIVEL'], alpha = alp,\n",
    "             order = ['0-17', '18-24', '25-29', '30-34', '35-39', '40-44', '45-49', '50-54', '55-59', '60-64',\n",
    "                     '65-69', '70-74', '75-79', '80 ou mais'])"
   ]
  },
  {
   "cell_type": "code",
   "execution_count": 385,
   "metadata": {},
   "outputs": [
    {
     "data": {
      "text/plain": [
       "<matplotlib.axes._subplots.AxesSubplot at 0x1e68222c828>"
      ]
     },
     "execution_count": 385,
     "metadata": {},
     "output_type": "execute_result"
    },
    {
     "data": {
      "image/png": "[encoded data removed]",
      "text/plain": [
       "<Figure size 1080x288 with 1 Axes>"
      ]
     },
     "metadata": {},
     "output_type": "display_data"
    }
   ],
   "source": [
    "#Usando faixa etária NOVA - com novas categorias (sem dados vazios)\n",
    "sns.countplot(x='NOVA_Faixa Etária', hue= 'Sexo', data=base_all_3, alpha = alp,\n",
    "             order = ['0-13','14-17','18-21','22-24','25-29','30-34','35-39','40-44',\n",
    "                      '45-49','50-54','55-59','60-64','65-69','70-74','75-79', '80 ou mais'])"
   ]
  },
  {
   "cell_type": "code",
   "execution_count": 386,
   "metadata": {},
   "outputs": [
    {
     "data": {
      "text/plain": [
       "<matplotlib.legend.Legend at 0x1e682457710>"
      ]
     },
     "execution_count": 386,
     "metadata": {},
     "output_type": "execute_result"
    },
    {
     "data": {
      "image/png": "[encoded data removed]",
      "text/plain": [
       "<Figure size 864x216 with 1 Axes>"
      ]
     },
     "metadata": {},
     "output_type": "display_data"
    }
   ],
   "source": [
    "a = sns.FacetGrid(base_all_3, hue='Sexo', aspect=4)\n",
    "a.map(sns.distplot, 'Idade', bins=25, kde=False)\n",
    "plt.legend()\n"
   ]
  },
  {
   "cell_type": "code",
   "execution_count": 387,
   "metadata": {
    "scrolled": true
   },
   "outputs": [
    {
     "data": {
      "text/plain": [
       "<matplotlib.axes._subplots.AxesSubplot at 0x1e6824d5da0>"
      ]
     },
     "execution_count": 387,
     "metadata": {},
     "output_type": "execute_result"
    },
    {
     "data": {
      "image/png": "[encoded data removed]",
      "text/plain": [
       "<Figure size 1080x288 with 1 Axes>"
      ]
     },
     "metadata": {},
     "output_type": "display_data"
    }
   ],
   "source": [
    "sns.countplot(x='NOVA_Faixa Etária', hue= 'Tipo Vítima', data=base_all_3, alpha = alp,\n",
    "             order = ['0-13','14-17','18-21','22-24','25-29','30-34','35-39','40-44',\n",
    "                      '45-49','50-54','55-59','60-64','65-69','70-74','75-79', '80 ou mais'])\n",
    "\n",
    "#Dado de 0-17 anos pode ter problmeas, pela quantidade de condutores - mas isso inclui bicicletas também"
   ]
  },
  {
   "cell_type": "code",
   "execution_count": 388,
   "metadata": {
    "scrolled": true
   },
   "outputs": [
    {
     "data": {
      "text/plain": [
       "<matplotlib.axes._subplots.AxesSubplot at 0x1e68276c7b8>"
      ]
     },
     "execution_count": 388,
     "metadata": {},
     "output_type": "execute_result"
    },
    {
     "data": {
      "image/png": "[encoded data removed]",
      "text/plain": [
       "<Figure size 1080x288 with 1 Axes>"
      ]
     },
     "metadata": {},
     "output_type": "display_data"
    }
   ],
   "source": [
    "#desconsiderando valores Outros e Nao disponivel para 'Tipo Veiculo'\n",
    "sns.countplot(x='NOVA_Faixa Etária', hue= 'Tipo Veiculo', data=base_all_3, alpha = alp,\n",
    "             order = ['0-13','14-17','18-21','22-24','25-29','30-34','35-39','40-44',\n",
    "                      '45-49','50-54','55-59','60-64','65-69','70-74','75-79', '80 ou mais'])"
   ]
  },
  {
   "cell_type": "code",
   "execution_count": 389,
   "metadata": {},
   "outputs": [
    {
     "data": {
      "text/plain": [
       "<matplotlib.axes._subplots.AxesSubplot at 0x1e6828e4240>"
      ]
     },
     "execution_count": 389,
     "metadata": {},
     "output_type": "execute_result"
    },
    {
     "data": {
      "image/png": "[encoded data removed]",
      "text/plain": [
       "<Figure size 1080x288 with 1 Axes>"
      ]
     },
     "metadata": {},
     "output_type": "display_data"
    }
   ],
   "source": [
    "sns.countplot(x='NOVA_Faixa Etária', hue= 'Tipo Acidente', data=base_all_3,\n",
    "             order = ['0-13','14-17','18-21','22-24','25-29','30-34','35-39','40-44',\n",
    "                      '45-49','50-54','55-59','60-64','65-69','70-74','75-79', '80 ou mais'], alpha = alp)"
   ]
  },
  {
   "cell_type": "code",
   "execution_count": 390,
   "metadata": {},
   "outputs": [
    {
     "data": {
      "text/plain": [
       "<matplotlib.axes._subplots.AxesSubplot at 0x1e68283ee80>"
      ]
     },
     "execution_count": 390,
     "metadata": {},
     "output_type": "execute_result"
    },
    {
     "data": {
      "image/png": "[encoded data removed]",
      "text/plain": [
       "<Figure size 1080x288 with 1 Axes>"
      ]
     },
     "metadata": {},
     "output_type": "display_data"
    }
   ],
   "source": [
    "sns.countplot(x='Tipo Veiculo', hue= 'Tipo de Via', data=base_all_3, alpha = alp)"
   ]
  },
  {
   "cell_type": "code",
   "execution_count": 391,
   "metadata": {},
   "outputs": [
    {
     "name": "stdout",
     "output_type": "stream",
     "text": [
      "[ 2 12 11 10  1  5  4  3]\n"
     ]
    },
    {
     "data": {
      "text/plain": [
       "<matplotlib.axes._subplots.AxesSubplot at 0x1e68288a0f0>"
      ]
     },
     "execution_count": 391,
     "metadata": {},
     "output_type": "execute_result"
    },
    {
     "data": {
      "image/png": "[encoded data removed]",
      "text/plain": [
       "<Figure size 1080x288 with 1 Axes>"
      ]
     },
     "metadata": {},
     "output_type": "display_data"
    }
   ],
   "source": [
    "#Consideração importante: Mês Óbito 2016 não tem dados de todos os meses (falta junho, julho, agosto e setembro |\n",
    "#                                                           maio está preenchido abaixo da média dos outros anos)\n",
    "print(base_2016_1['Mês Óbito'].unique())\n",
    "\n",
    "sns.countplot(x='Tipo Veiculo', hue= 'Ano Óbito', data=base_all_3, alpha = alp)"
   ]
  },
  {
   "cell_type": "code",
   "execution_count": 393,
   "metadata": {},
   "outputs": [
    {
     "data": {
      "text/plain": [
       "<matplotlib.axes._subplots.AxesSubplot at 0x1e682a20b38>"
      ]
     },
     "execution_count": 393,
     "metadata": {},
     "output_type": "execute_result"
    },
    {
     "data": {
      "image/png": "[encoded data removed]",
      "text/plain": [
       "<Figure size 1080x288 with 1 Axes>"
      ]
     },
     "metadata": {},
     "output_type": "display_data"
    }
   ],
   "source": [
    "# Desconsiderando 2016 e 2019\n",
    "\n",
    "sns.countplot(x='Tipo Veiculo', hue= 'Ano Óbito', data=base_all_3.loc[(base_all_3['Ano Óbito']!=(2016)) &\n",
    "             (base_all_3['Ano Óbito']!=(2019))], alpha = alp,\n",
    "             order=base_all_3['Tipo Veiculo'].value_counts().index)"
   ]
  },
  {
   "cell_type": "code",
   "execution_count": 394,
   "metadata": {},
   "outputs": [
    {
     "data": {
      "text/plain": [
       "(array([ 0,  1,  2,  3,  4,  5,  6,  7,  8,  9, 10, 11, 12, 13, 14, 15]),\n",
       " <a list of 16 Text xticklabel objects>)"
      ]
     },
     "execution_count": 394,
     "metadata": {},
     "output_type": "execute_result"
    },
    {
     "data": {
      "image/png": "[encoded data removed]",
      "text/plain": [
       "<Figure size 1080x288 with 1 Axes>"
      ]
     },
     "metadata": {},
     "output_type": "display_data"
    }
   ],
   "source": [
    "sns.countplot(x='Região Administrativa', hue= 'Ano Óbito', data=base_all_3, alpha = alp,\n",
    "             order=base_all_3['Região Administrativa'].value_counts().index)\n",
    "plt.xticks(rotation=angulo)"
   ]
  },
  {
   "cell_type": "code",
   "execution_count": 395,
   "metadata": {},
   "outputs": [
    {
     "data": {
      "text/plain": [
       "(array([ 0,  1,  2,  3,  4,  5,  6,  7,  8,  9, 10, 11, 12, 13, 14, 15]),\n",
       " <a list of 16 Text xticklabel objects>)"
      ]
     },
     "execution_count": 395,
     "metadata": {},
     "output_type": "execute_result"
    },
    {
     "data": {
      "image/png": "[encoded data removed]",
      "text/plain": [
       "<Figure size 1080x288 with 1 Axes>"
      ]
     },
     "metadata": {},
     "output_type": "display_data"
    }
   ],
   "source": [
    "sns.countplot(x='Região Administrativa', hue= 'Tipo Veiculo', data=base_all_3,\n",
    "             alpha = alp,\n",
    "             order=base_all_3['Região Administrativa'].value_counts().index)\n",
    "\n",
    "plt.xticks(rotation=angulo)\n",
    "\n"
   ]
  },
  {
   "cell_type": "code",
   "execution_count": 396,
   "metadata": {},
   "outputs": [
    {
     "data": {
      "text/plain": [
       "(array([ 0,  1,  2,  3,  4,  5,  6,  7,  8,  9, 10, 11, 12, 13, 14, 15]),\n",
       " <a list of 16 Text xticklabel objects>)"
      ]
     },
     "execution_count": 396,
     "metadata": {},
     "output_type": "execute_result"
    },
    {
     "data": {
      "image/png": "[encoded data removed]",
      "text/plain": [
       "<Figure size 1080x288 with 1 Axes>"
      ]
     },
     "metadata": {},
     "output_type": "display_data"
    }
   ],
   "source": [
    "sns.countplot(x='Região Administrativa', hue= 'Tipo Acidente', data=base_all_3,\n",
    "             alpha = alp,\n",
    "             order=base_all_3['Região Administrativa'].value_counts().index)\n",
    "\n",
    "plt.xticks(rotation=angulo)"
   ]
  },
  {
   "cell_type": "code",
   "execution_count": 397,
   "metadata": {},
   "outputs": [
    {
     "data": {
      "text/plain": [
       "(array([0, 1, 2, 3, 4]), <a list of 5 Text xticklabel objects>)"
      ]
     },
     "execution_count": 397,
     "metadata": {},
     "output_type": "execute_result"
    },
    {
     "data": {
      "image/png": "[encoded data removed]",
      "text/plain": [
       "<Figure size 1080x288 with 1 Axes>"
      ]
     },
     "metadata": {},
     "output_type": "display_data"
    }
   ],
   "source": [
    "sns.countplot(x='Região Administrativa', hue= 'Tipo Veiculo', data=base_all_3.loc[\n",
    "              base_all_3['Região Administrativa'].str.contains('São José do Rio Preto|Marília|Central|Itapeva|Barretos'\n",
    "              )==True], alpha = alp)\n",
    "\n",
    "plt.xticks(rotation=angulo)"
   ]
  },
  {
   "cell_type": "code",
   "execution_count": 398,
   "metadata": {},
   "outputs": [
    {
     "data": {
      "text/plain": [
       "(array([ 0,  1,  2,  3,  4,  5,  6,  7,  8,  9, 10, 11, 12, 13, 14, 15, 16,\n",
       "        17, 18, 19, 20, 21, 22, 23, 24, 25, 26, 27, 28, 29, 30, 31, 32, 33,\n",
       "        34, 35, 36, 37, 38]), <a list of 39 Text xticklabel objects>)"
      ]
     },
     "execution_count": 398,
     "metadata": {},
     "output_type": "execute_result"
    },
    {
     "data": {
      "image/png": "[encoded data removed]",
      "text/plain": [
       "<Figure size 1080x288 with 1 Axes>"
      ]
     },
     "metadata": {},
     "output_type": "display_data"
    }
   ],
   "source": [
    "sns.countplot(x='Cidade Considerada', hue= 'Tipo Veiculo', data=base_all_3.loc[\n",
    "             base_all_3['Região Administrativa'].str.contains('Metropolitana de São Paulo')==True],\n",
    "             alpha = alp,\n",
    "             )\n",
    "\n",
    "plt.xticks(rotation=angulo)"
   ]
  },
  {
   "cell_type": "code",
   "execution_count": 399,
   "metadata": {},
   "outputs": [
    {
     "data": {
      "text/plain": [
       "<matplotlib.axes._subplots.AxesSubplot at 0x1e68487a2b0>"
      ]
     },
     "execution_count": 399,
     "metadata": {},
     "output_type": "execute_result"
    },
    {
     "data": {
      "image/png": "[encoded data removed]",
      "text/plain": [
       "<Figure size 1080x288 with 1 Axes>"
      ]
     },
     "metadata": {},
     "output_type": "display_data"
    }
   ],
   "source": [
    "#SAO PAULO, GUARULHOS e SAO BERNARDO DO CAMPO são os que mais tem óbitos\n",
    "sns.countplot(x='NOVA_Faixa Etária', hue= 'Tipo Veiculo', data=base_all_3.loc[\n",
    "             base_all_3['Cidade Considerada'].str.contains('SAO PAULO')==True],\n",
    "             alpha = alp,\n",
    "             order=['0-13','14-17','18-21','22-24','25-29','30-34','35-39','40-44',\n",
    "                      '45-49','50-54','55-59','60-64','65-69','70-74','75-79', '80 ou mais'])\n"
   ]
  },
  {
   "cell_type": "code",
   "execution_count": null,
   "metadata": {},
   "outputs": [],
   "source": []
  },
  {
   "cell_type": "code",
   "execution_count": null,
   "metadata": {},
   "outputs": [],
   "source": []
  }
 ],
 "metadata": {
  "kernelspec": {
   "display_name": "Python 3",
   "language": "python",
   "name": "python3"
  },
  "language_info": {
   "codemirror_mode": {
    "name": "ipython",
    "version": 3
   },
   "file_extension": ".py",
   "mimetype": "text/x-python",
   "name": "python",
   "nbconvert_exporter": "python",
   "pygments_lexer": "ipython3",
   "version": "3.6.0"
  }
 },
 "nbformat": 4,
 "nbformat_minor": 2
}
